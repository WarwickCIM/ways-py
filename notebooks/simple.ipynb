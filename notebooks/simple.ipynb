{
 "cells": [
  {
   "cell_type": "markdown",
   "id": "d58a5c51",
   "metadata": {},
   "source": [
    "# WAYS demo #1\n",
    "\n",
    "A minimal working example of the WAYS package, using a basic plot and example dataset in the Altair plotting package."
   ]
  },
  {
   "cell_type": "code",
   "execution_count": null,
   "id": "71853ccf",
   "metadata": {},
   "outputs": [],
   "source": [
    "%%capture\n",
    "!poetry install"
   ]
  },
  {
   "cell_type": "code",
   "execution_count": null,
   "id": "7bf79ebc",
   "metadata": {},
   "outputs": [],
   "source": [
    "import pandas as pd\n",
    "import altair as alt\n",
    "\n",
    "# Import WAYS decorator functions\n",
    "import sys; sys.path.insert(0, '..')\n",
    "from ways_py.ways import altair_color_viz, altair_color_widgets"
   ]
  },
  {
   "cell_type": "code",
   "execution_count": null,
   "id": "748c0d29",
   "metadata": {},
   "outputs": [],
   "source": [
    "# Grab an example dataset - data on movies from IMDB and Rotten Tomatoes\n",
    "from vega_datasets import data\n",
    "import ssl\n",
    "ssl._create_default_https_context = ssl._create_unverified_context"
   ]
  },
  {
   "cell_type": "code",
   "execution_count": null,
   "id": "dfd8559c",
   "metadata": {},
   "outputs": [],
   "source": [
    "movie_data = pd.read_json(data.movies.url)\n",
    "movie_data.head()"
   ]
  },
  {
   "cell_type": "markdown",
   "id": "7527039b",
   "metadata": {},
   "source": [
    "### Create a scatter plot, decorated with colour meta-visualisation\n",
    "\n",
    "Below a simple plot is defined which plots the ratings from the two websites against eachother, with the color of the points determined by the production budget. Using WAYS decorators, we add a \"meta histogram\" which shows clearly which selections of data, by production budget, are assigned each color bin."
   ]
  },
  {
   "cell_type": "code",
   "execution_count": null,
   "id": "219b9c89",
   "metadata": {},
   "outputs": [],
   "source": [
    "@altair_color_viz\n",
    "def ratings_scatter(data):\n",
    "    chart = alt.Chart(data, title='IMDB VS RT by Budget').mark_circle().encode(\n",
    "        x='IMDB_Rating',\n",
    "        y='Rotten_Tomatoes_Rating',\n",
    "        color=alt.Color('Production_Budget',\n",
    "              bin=alt.Bin(maxbins=100, extent=[218,300000000]),\n",
    "              scale=alt.Scale(scheme='blues'),\n",
    "        )\n",
    "    )\n",
    "    return chart\n",
    "\n",
    "ratings_scatter(movie_data)"
   ]
  },
  {
   "cell_type": "code",
   "execution_count": null,
   "id": "bfd6e552",
   "metadata": {},
   "outputs": [],
   "source": []
  }
 ],
 "metadata": {
  "kernelspec": {
   "display_name": "Python 3 (ipykernel)",
   "language": "python",
   "name": "python3"
  },
  "language_info": {
   "codemirror_mode": {
    "name": "ipython",
    "version": 3
   },
   "file_extension": ".py",
   "mimetype": "text/x-python",
   "name": "python",
   "nbconvert_exporter": "python",
   "pygments_lexer": "ipython3",
   "version": "3.9.8"
  }
 },
 "nbformat": 4,
 "nbformat_minor": 5
}
