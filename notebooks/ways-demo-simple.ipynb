{
 "cells": [
  {
   "cell_type": "markdown",
   "id": "41397b64",
   "metadata": {},
   "source": [
    "# WAYS demo #1\n",
    "\n",
    "A minimal working example of the WAYS package"
   ]
  },
  {
   "cell_type": "code",
   "execution_count": 1,
   "id": "39fa960d",
   "metadata": {},
   "outputs": [],
   "source": [
    "import pandas as pd\n",
    "import altair as alt\n",
    "from ipywidgets import widgets\n",
    "\n",
    "# Import WAYS\n",
    "import sys; sys.path.insert(0, '..')\n",
    "from ways_py.ways import meta_hist, WAlt, altair_widgets"
   ]
  },
  {
   "cell_type": "code",
   "execution_count": 2,
   "id": "2d3789e7",
   "metadata": {},
   "outputs": [],
   "source": [
    "from vega_datasets import data\n",
    "import ssl\n",
    "ssl._create_default_https_context = ssl._create_unverified_context\n",
    "\n",
    "# states_income = pd.read_json(data.income.url)"
   ]
  },
  {
   "cell_type": "code",
   "execution_count": 3,
   "id": "aa1d8a89",
   "metadata": {},
   "outputs": [
    {
     "data": {
      "text/html": [
       "<div>\n",
       "<style scoped>\n",
       "    .dataframe tbody tr th:only-of-type {\n",
       "        vertical-align: middle;\n",
       "    }\n",
       "\n",
       "    .dataframe tbody tr th {\n",
       "        vertical-align: top;\n",
       "    }\n",
       "\n",
       "    .dataframe thead th {\n",
       "        text-align: right;\n",
       "    }\n",
       "</style>\n",
       "<table border=\"1\" class=\"dataframe\">\n",
       "  <thead>\n",
       "    <tr style=\"text-align: right;\">\n",
       "      <th></th>\n",
       "      <th>Title</th>\n",
       "      <th>US_Gross</th>\n",
       "      <th>Worldwide_Gross</th>\n",
       "      <th>US_DVD_Sales</th>\n",
       "      <th>Production_Budget</th>\n",
       "      <th>Release_Date</th>\n",
       "      <th>MPAA_Rating</th>\n",
       "      <th>Running_Time_min</th>\n",
       "      <th>Distributor</th>\n",
       "      <th>Source</th>\n",
       "      <th>Major_Genre</th>\n",
       "      <th>Creative_Type</th>\n",
       "      <th>Director</th>\n",
       "      <th>Rotten_Tomatoes_Rating</th>\n",
       "      <th>IMDB_Rating</th>\n",
       "      <th>IMDB_Votes</th>\n",
       "    </tr>\n",
       "  </thead>\n",
       "  <tbody>\n",
       "    <tr>\n",
       "      <th>0</th>\n",
       "      <td>The Land Girls</td>\n",
       "      <td>146083.0</td>\n",
       "      <td>146083.0</td>\n",
       "      <td>NaN</td>\n",
       "      <td>8000000.0</td>\n",
       "      <td>Jun 12 1998</td>\n",
       "      <td>R</td>\n",
       "      <td>NaN</td>\n",
       "      <td>Gramercy</td>\n",
       "      <td>None</td>\n",
       "      <td>None</td>\n",
       "      <td>None</td>\n",
       "      <td>None</td>\n",
       "      <td>NaN</td>\n",
       "      <td>6.1</td>\n",
       "      <td>1071.0</td>\n",
       "    </tr>\n",
       "    <tr>\n",
       "      <th>1</th>\n",
       "      <td>First Love, Last Rites</td>\n",
       "      <td>10876.0</td>\n",
       "      <td>10876.0</td>\n",
       "      <td>NaN</td>\n",
       "      <td>300000.0</td>\n",
       "      <td>Aug 07 1998</td>\n",
       "      <td>R</td>\n",
       "      <td>NaN</td>\n",
       "      <td>Strand</td>\n",
       "      <td>None</td>\n",
       "      <td>Drama</td>\n",
       "      <td>None</td>\n",
       "      <td>None</td>\n",
       "      <td>NaN</td>\n",
       "      <td>6.9</td>\n",
       "      <td>207.0</td>\n",
       "    </tr>\n",
       "    <tr>\n",
       "      <th>2</th>\n",
       "      <td>I Married a Strange Person</td>\n",
       "      <td>203134.0</td>\n",
       "      <td>203134.0</td>\n",
       "      <td>NaN</td>\n",
       "      <td>250000.0</td>\n",
       "      <td>Aug 28 1998</td>\n",
       "      <td>None</td>\n",
       "      <td>NaN</td>\n",
       "      <td>Lionsgate</td>\n",
       "      <td>None</td>\n",
       "      <td>Comedy</td>\n",
       "      <td>None</td>\n",
       "      <td>None</td>\n",
       "      <td>NaN</td>\n",
       "      <td>6.8</td>\n",
       "      <td>865.0</td>\n",
       "    </tr>\n",
       "    <tr>\n",
       "      <th>3</th>\n",
       "      <td>Let's Talk About Sex</td>\n",
       "      <td>373615.0</td>\n",
       "      <td>373615.0</td>\n",
       "      <td>NaN</td>\n",
       "      <td>300000.0</td>\n",
       "      <td>Sep 11 1998</td>\n",
       "      <td>None</td>\n",
       "      <td>NaN</td>\n",
       "      <td>Fine Line</td>\n",
       "      <td>None</td>\n",
       "      <td>Comedy</td>\n",
       "      <td>None</td>\n",
       "      <td>None</td>\n",
       "      <td>13.0</td>\n",
       "      <td>NaN</td>\n",
       "      <td>NaN</td>\n",
       "    </tr>\n",
       "    <tr>\n",
       "      <th>4</th>\n",
       "      <td>Slam</td>\n",
       "      <td>1009819.0</td>\n",
       "      <td>1087521.0</td>\n",
       "      <td>NaN</td>\n",
       "      <td>1000000.0</td>\n",
       "      <td>Oct 09 1998</td>\n",
       "      <td>R</td>\n",
       "      <td>NaN</td>\n",
       "      <td>Trimark</td>\n",
       "      <td>Original Screenplay</td>\n",
       "      <td>Drama</td>\n",
       "      <td>Contemporary Fiction</td>\n",
       "      <td>None</td>\n",
       "      <td>62.0</td>\n",
       "      <td>3.4</td>\n",
       "      <td>165.0</td>\n",
       "    </tr>\n",
       "  </tbody>\n",
       "</table>\n",
       "</div>"
      ],
      "text/plain": [
       "                        Title   US_Gross  Worldwide_Gross  US_DVD_Sales  \\\n",
       "0              The Land Girls   146083.0         146083.0           NaN   \n",
       "1      First Love, Last Rites    10876.0          10876.0           NaN   \n",
       "2  I Married a Strange Person   203134.0         203134.0           NaN   \n",
       "3        Let's Talk About Sex   373615.0         373615.0           NaN   \n",
       "4                        Slam  1009819.0        1087521.0           NaN   \n",
       "\n",
       "   Production_Budget Release_Date MPAA_Rating  Running_Time_min Distributor  \\\n",
       "0          8000000.0  Jun 12 1998           R               NaN    Gramercy   \n",
       "1           300000.0  Aug 07 1998           R               NaN      Strand   \n",
       "2           250000.0  Aug 28 1998        None               NaN   Lionsgate   \n",
       "3           300000.0  Sep 11 1998        None               NaN   Fine Line   \n",
       "4          1000000.0  Oct 09 1998           R               NaN     Trimark   \n",
       "\n",
       "                Source Major_Genre         Creative_Type Director  \\\n",
       "0                 None        None                  None     None   \n",
       "1                 None       Drama                  None     None   \n",
       "2                 None      Comedy                  None     None   \n",
       "3                 None      Comedy                  None     None   \n",
       "4  Original Screenplay       Drama  Contemporary Fiction     None   \n",
       "\n",
       "   Rotten_Tomatoes_Rating  IMDB_Rating  IMDB_Votes  \n",
       "0                     NaN          6.1      1071.0  \n",
       "1                     NaN          6.9       207.0  \n",
       "2                     NaN          6.8       865.0  \n",
       "3                    13.0          NaN         NaN  \n",
       "4                    62.0          3.4       165.0  "
      ]
     },
     "execution_count": 3,
     "metadata": {},
     "output_type": "execute_result"
    }
   ],
   "source": [
    "movie_data = pd.read_json(data.movies.url)\n",
    "movie_data.head()"
   ]
  },
  {
   "cell_type": "code",
   "execution_count": 4,
   "id": "5575b2ca",
   "metadata": {},
   "outputs": [],
   "source": [
    "@altair_widgets() # will modify the ratings_scatter func to take args: data, column\n",
    "@meta_hist\n",
    "def ratings_scatter(data, color):\n",
    "    chart = alt.Chart(data, title='IMDB VS RT by Budget').mark_circle().encode(\n",
    "        x='IMDB_Rating',\n",
    "        y='Rotten_Tomatoes_Rating',\n",
    "        color=color\n",
    "    )\n",
    "    return chart"
   ]
  },
  {
   "cell_type": "code",
   "execution_count": 5,
   "id": "be3af66f",
   "metadata": {},
   "outputs": [
    {
     "data": {
      "application/vnd.jupyter.widget-view+json": {
       "model_id": "6d8548707bb84941b8a5ebe3ffe89085",
       "version_major": 2,
       "version_minor": 0
      },
      "text/plain": [
       "GridBox(children=(Checkbox(value=True, description='Bin'), IntText(value=7, continuous_update=True, descriptio…"
      ]
     },
     "metadata": {},
     "output_type": "display_data"
    },
    {
     "data": {
      "application/vnd.jupyter.widget-view+json": {
       "model_id": "e514d73883554448b836058dc8a8cb5b",
       "version_major": 2,
       "version_minor": 0
      },
      "text/plain": [
       "GridBox(children=(RadioButtons(description='Color Method', options=('Scheme', 'Range'), value='Scheme'), Dropd…"
      ]
     },
     "metadata": {},
     "output_type": "display_data"
    },
    {
     "data": {
      "application/vnd.jupyter.widget-view+json": {
       "model_id": "73e4a2a300be4158827a54ada4b707aa",
       "version_major": 2,
       "version_minor": 0
      },
      "text/plain": [
       "Output()"
      ]
     },
     "metadata": {},
     "output_type": "display_data"
    }
   ],
   "source": [
    "ratings_scatter(movie_data, \"Production_Budget\")"
   ]
  }
 ],
 "metadata": {
  "kernelspec": {
   "display_name": "Python 3 (ipykernel)",
   "language": "python",
   "name": "python3"
  },
  "language_info": {
   "codemirror_mode": {
    "name": "ipython",
    "version": 3
   },
   "file_extension": ".py",
   "mimetype": "text/x-python",
   "name": "python",
   "nbconvert_exporter": "python",
   "pygments_lexer": "ipython3",
   "version": "3.9.7"
  }
 },
 "nbformat": 4,
 "nbformat_minor": 5
}
