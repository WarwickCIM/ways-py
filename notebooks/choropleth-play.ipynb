{
 "cells": [
  {
   "cell_type": "markdown",
   "metadata": {},
   "source": [
    "# Altair Choropleths play\n",
    "\n",
    "Here I load in James' presidential polls dataset from the teaching notebook in this dir and attempt some rudimentary WAYS ideas."
   ]
  },
  {
   "cell_type": "code",
   "execution_count": null,
   "metadata": {},
   "outputs": [],
   "source": [
    "%%capture\n",
    "# capture suppresses output of the below:\n",
    "# Install a pip package in the current Jupyter kernel\n",
    "import sys\n",
    "!{sys.executable} -m pip install -r requirements.txt"
   ]
  },
  {
   "cell_type": "code",
   "execution_count": null,
   "metadata": {},
   "outputs": [],
   "source": [
    "import geopandas as gpd \n",
    "import pandas as pd\n",
    "import altair as alt\n",
    "\n",
    "geo_states = gpd.read_file('choropleth_teaching/gz_2010_us_040_00_500k.json')\n",
    "df_polls = pd.read_csv('choropleth_teaching/presidential_poll_averages_2020.csv')"
   ]
  },
  {
   "cell_type": "code",
   "execution_count": null,
   "metadata": {},
   "outputs": [],
   "source": [
    "df_polls.head()"
   ]
  },
  {
   "cell_type": "markdown",
   "metadata": {},
   "source": [
    "On how many dates was the polling done?"
   ]
  },
  {
   "cell_type": "code",
   "execution_count": null,
   "metadata": {},
   "outputs": [],
   "source": [
    "len(df_polls.modeldate.unique())"
   ]
  },
  {
   "cell_type": "markdown",
   "metadata": {},
   "source": [
    "Filter our poll data to remove third party candidates."
   ]
  },
  {
   "cell_type": "code",
   "execution_count": null,
   "metadata": {},
   "outputs": [],
   "source": [
    "df_polls = df_polls[\n",
    "    (df_polls.candidate_name == 'Donald Trump') |\n",
    "    (df_polls.candidate_name == 'Joseph R. Biden Jr.')\n",
    "]"
   ]
  },
  {
   "cell_type": "markdown",
   "metadata": {},
   "source": [
    "The geo_states variable has polygons for each state."
   ]
  },
  {
   "cell_type": "code",
   "execution_count": null,
   "metadata": {},
   "outputs": [],
   "source": [
    "geo_states.head()"
   ]
  },
  {
   "cell_type": "code",
   "execution_count": null,
   "metadata": {},
   "outputs": [],
   "source": [
    "trump_data = df_polls[\n",
    "    df_polls.candidate_name == 'Donald Trump'\n",
    "]\n",
    "\n",
    "biden_data = df_polls[\n",
    "    df_polls.candidate_name == 'Joseph R. Biden Jr.'\n",
    "]"
   ]
  },
  {
   "cell_type": "markdown",
   "metadata": {},
   "source": [
    "Our spatial and poll data have the name of the state in common. We will change the name of the state to NAME to match our geospatial dataframe."
   ]
  },
  {
   "cell_type": "code",
   "execution_count": null,
   "metadata": {},
   "outputs": [],
   "source": [
    "trump_data.columns = ['cycle', 'NAME', 'modeldate', 'candidate_name', 'pct_estimate', 'pct_trend_adjusted']\n",
    "biden_data.columns = ['cycle', 'NAME', 'modeldate', 'candidate_name', 'pct_estimate', 'pct_trend_adjusted']"
   ]
  },
  {
   "cell_type": "markdown",
   "metadata": {},
   "source": [
    "We can join the geospatial and poll data using the NAME column (the name of the state)."
   ]
  },
  {
   "cell_type": "code",
   "execution_count": null,
   "metadata": {},
   "outputs": [],
   "source": [
    "# Create separate date frame for trump and biden\n",
    "# Add the poll data\n",
    "geo_states_trump = geo_states.merge(trump_data, on='NAME')\n",
    "geo_states_biden = geo_states.merge(biden_data, on='NAME')"
   ]
  },
  {
   "cell_type": "code",
   "execution_count": null,
   "metadata": {},
   "outputs": [],
   "source": [
    "(geo_states_trump.modeldate == '11/03/2020').value_counts()"
   ]
  },
  {
   "cell_type": "code",
   "execution_count": null,
   "metadata": {},
   "outputs": [],
   "source": [
    "geo_states_biden.head()"
   ]
  },
  {
   "cell_type": "markdown",
   "metadata": {},
   "source": [
    "### Create choropleth plot function"
   ]
  },
  {
   "cell_type": "code",
   "execution_count": null,
   "metadata": {},
   "outputs": [],
   "source": [
    "import sys; sys.path.insert(0, '..')\n",
    "from ways_py.ways import meta_hist\n",
    "\n",
    "@meta_hist\n",
    "def usa_choro(candidate_geo_states, color, title):\n",
    "    \"\"\"Plot a choropleth of the US states with the candidate vote percentage mapped to the color;\n",
    "    pass in altair color object and a title\"\"\"\n",
    "    chart = alt.Chart(candidate_geo_states, title=title).mark_geoshape()\n",
    "    chart = chart.encode(\n",
    "        color,\n",
    "        tooltip=['NAME', 'pct_estimate']\n",
    "    ).properties(\n",
    "        width=500,\n",
    "        height=300\n",
    "    ).project(\n",
    "        type='albersUsa'\n",
    "    )\n",
    "    return chart"
   ]
  },
  {
   "cell_type": "markdown",
   "metadata": {},
   "source": [
    "## Adding interactivity with Jupyter interact widgets\n",
    "\n",
    "Here I attempt to offer the user working on the the US presidential poll choropleth visualisation some options related to the colour-binning."
   ]
  },
  {
   "cell_type": "code",
   "execution_count": null,
   "metadata": {},
   "outputs": [],
   "source": [
    "from ipywidgets import interact, interact_manual, widgets, HBox, VBox, GridspecLayout"
   ]
  },
  {
   "cell_type": "code",
   "execution_count": null,
   "metadata": {},
   "outputs": [],
   "source": [
    "# Get an ordered list of the dates (as strings) on which polling occured\n",
    "import datetime\n",
    "unsorted_datestrings = list(set(list(geo_states_biden['modeldate'])))\n",
    "dates = sorted(unsorted_datestrings, key=lambda x: datetime.datetime.strptime(x, '%m/%d/%Y'))"
   ]
  },
  {
   "cell_type": "markdown",
   "metadata": {},
   "source": [
    "Get a list of possible altair scales from [here](https://altair-viz.github.io/user_guide/generated/core/altair.ScaleType.html#altair.ScaleType) and create a list:"
   ]
  },
  {
   "cell_type": "code",
   "execution_count": null,
   "metadata": {},
   "outputs": [],
   "source": [
    "scales = ['linear', 'log', 'pow', 'sqrt', 'symlog', 'identity', 'sequential', 'time', 'utc', 'quantile', 'quantize', 'threshold', 'bin-ordinal', 'ordinal', 'point', 'band']"
   ]
  },
  {
   "cell_type": "markdown",
   "metadata": {},
   "source": [
    "Get a list of the possible color schemes from [here](https://vega.github.io/vega/docs/schemes/#reference)"
   ]
  },
  {
   "cell_type": "code",
   "execution_count": null,
   "metadata": {},
   "outputs": [],
   "source": [
    "schemes = ['blues', 'tealblues', 'teals', 'greens', 'browns', 'oranges', 'reds', 'purples', 'warmgreys', 'greys',\n",
    "           'viridis', 'magma', 'inferno', 'plasma', 'cividis', 'turbo', 'bluegreen', 'bluepurple', 'goldgreen',\n",
    "           'goldorange', 'goldred', 'greenblue', 'orangered', 'purplebluegreen', 'purpleblue', 'purplered',\n",
    "           'redpurple', 'yellowgreenblue', 'yellowgreen', 'yelloworangebrown', 'yelloworangered', 'darkblue',\n",
    "           'darkgold','darkgreen','darkmulti','darkred', 'lightgreyred', 'lightgreyteal', 'lightmulti', 'lightorange',\n",
    "           'lighttealblue', 'blueorange', 'brownbluegreen', 'purplegreen', 'pinkyellowgreen', 'purpleorange',\n",
    "           'redblue', 'redgrey', 'redyellowblue', 'redyellowgreen', 'spectral', 'rainbow', 'sinebow']"
   ]
  },
  {
   "cell_type": "code",
   "execution_count": null,
   "metadata": {},
   "outputs": [],
   "source": [
    "# color_picker = widgets.ColorPicker(\n",
    "#     concise=True,\n",
    "#     description='Background color:',\n",
    "#     value='#efefef',\n",
    "# )\n",
    "# color_picker"
   ]
  },
  {
   "cell_type": "markdown",
   "metadata": {},
   "source": [
    "### Create and arrange widgets"
   ]
  },
  {
   "cell_type": "code",
   "execution_count": null,
   "metadata": {},
   "outputs": [],
   "source": [
    "# List containing all widgets to be added to GridBox\n",
    "grid_matrix = []\n",
    "\n",
    "# Simple dropdown to switch between Biden and Trump's data\n",
    "candidate = widgets.Dropdown(value='Biden', options=['Trump', 'Biden'], description = 'Candidate')\n",
    "grid_matrix.append(candidate)\n",
    "\n",
    "# Choose the polling date to visualise\n",
    "date = widgets.SelectionSlider(value='10/03/2020', options=dates, description='Date', continuous_update=False)\n",
    "grid_matrix.append(date)\n",
    "\n",
    "# Checkbox that determines whether we use color binning - if false, color scheme is continuous\n",
    "bin = widgets.Checkbox(value=True, description='Bin')\n",
    "\n",
    "# Select the maximum number of bins\n",
    "maxbins = widgets.IntSlider(value=100, min=2, max=100, step=1, description='Max Bins', continuous_update=False)\n",
    "\n",
    "# Double-slider: Choose the extent of the polling percentage data to plot\n",
    "extent = widgets.IntRangeSlider(value=[0,100], min=0, max=100, description='Extent', continuous_update=False)\n",
    "\n",
    "# Grey out the widgets that work with the Bin object when bin not selected\n",
    "def bin_options(change):\n",
    "    if change.new:\n",
    "        maxbins.disabled = False\n",
    "        extent.disabled = False\n",
    "    else:\n",
    "        maxbins.disabled = True\n",
    "        extent.disabled = True\n",
    "bin.observe(bin_options, names='value')\n",
    "\n",
    "grid_matrix.append(bin)\n",
    "grid_matrix.append(maxbins)\n",
    "grid_matrix.append(extent)\n",
    "\n",
    "# Select which kind of scaling to use\n",
    "scale = widgets.Dropdown(value='linear', options=scales, description = 'Scales')\n",
    "grid_matrix.append(scale)\n",
    "        \n",
    "# Three widgets here that expose a variety of options for setting the color scheme:\n",
    "# colorscheme and colorrange are greyed out when not selected by colorschemetype\n",
    "colorscheme = widgets.Dropdown(options=schemes, description = 'Scheme')\n",
    "colorrange = widgets.Dropdown(options=['redpurpleblue', 'redorangeyellow'], description = 'Range', disabled=True)\n",
    "colorschemetype = widgets.RadioButtons(value= 'Scheme', options=['Scheme', 'Range'], description='Color Method')\n",
    "def choose_coloring_method(change):\n",
    "    if change.new == 'Scheme':\n",
    "        colorscheme.disabled = False\n",
    "        colorrange.disabled = True\n",
    "    elif change.new == 'Range':\n",
    "        colorscheme.disabled = True\n",
    "        colorrange.disabled = False\n",
    "colorschemetype.observe(choose_coloring_method, names='value')\n",
    "grid_matrix.append(colorschemetype)\n",
    "grid_matrix.append(colorscheme)\n",
    "grid_matrix.append(colorrange)\n",
    "\n",
    "# Plot does not automatically get generated, only the widgets are visible until this (or anything else) clicked\n",
    "generate_button = widgets.Button(description=\"Generate Plot\")\n",
    "def on_button_clicked(b):\n",
    "    date.value='11/03/2020' # This will get the plot to generate by changing one of the widgets\n",
    "generate_button.on_click(on_button_clicked)\n",
    "grid_matrix.append(generate_button)\n",
    "\n",
    "# Create the GridBox to arrange the widgets into rows of three\n",
    "grid = widgets.GridBox(grid_matrix, layout=widgets.Layout(grid_template_columns=\"repeat(3, 300px)\"))\n",
    "\n",
    "# Define interactive plot containing choropleth and metavisualisation histogram\n",
    "def interact_usa_choro(candidate,\n",
    "                       date,\n",
    "                       bin,\n",
    "                       maxbins,\n",
    "                       scale,\n",
    "                       extent,\n",
    "                       colorschemetype,\n",
    "                       colorscheme,\n",
    "                       colorrange\n",
    "                      ):\n",
    "\n",
    "    # Chooses the candidate dataset\n",
    "    candidate_geo_states = geo_states_biden\n",
    "    if candidate == 'Trump':\n",
    "        candidate_geo_states = geo_states_trump\n",
    "\n",
    "    # Choose which polling date to display\n",
    "    candidate_geo_states = candidate_geo_states[\n",
    "        (candidate_geo_states.modeldate == date)\n",
    "    ]\n",
    "\n",
    "    # Give the choropleth plot a title\n",
    "    title = 'Poll estimate for ' + candidate + ' on ' + date\n",
    "\n",
    "    # Creates the bin, scale and color objects, to be passed to both plots\n",
    "    if bin: # if bin is False, leave as bool\n",
    "        bin = alt.Bin(maxbins=maxbins, extent=extent)\n",
    "    if colorschemetype == 'Scheme':\n",
    "        scale = alt.Scale(type=scale, scheme=colorscheme)\n",
    "    elif colorschemetype == 'Range':\n",
    "        if colorrange == 'redpurpleblue':\n",
    "            scale = alt.Scale(type=scale, range=['red', 'purple', 'blue'])\n",
    "        elif colorrange == 'redorangeyellow':\n",
    "            scale = alt.Scale(type=scale, range=['red', 'orange', 'yellow'])\n",
    "    column = \"pct_estimate\"\n",
    "    color = alt.Color(column,\n",
    "                      legend=None,\n",
    "                      bin=bin,\n",
    "                      scale=scale\n",
    "                     )\n",
    "    \n",
    "    # Display the histogram and choropleth in horizontal panels\n",
    "    display(usa_choro(candidate_geo_states, color, title))\n",
    "\n",
    "# Create interactive ouput from widget grid and plot\n",
    "out = widgets.interactive_output(\n",
    "    interact_usa_choro,\n",
    "    {\n",
    "        'candidate': candidate,\n",
    "        'date': date,\n",
    "        'bin': bin,\n",
    "        'maxbins': maxbins,\n",
    "        'scale': scale,\n",
    "        'extent': extent,\n",
    "        'colorschemetype': colorschemetype,\n",
    "        'colorscheme': colorscheme,\n",
    "        'colorrange': colorrange\n",
    "    }\n",
    ")\n",
    "\n",
    "# Display in this cell\n",
    "display(grid, out)"
   ]
  },
  {
   "cell_type": "markdown",
   "metadata": {},
   "source": [
    "Notes:\n",
    "1. Setting the scale to `log` doesn't work unless `bin` is **unchecked**\n",
    "2. Because the `extent` data range plugs into the `alt.Bin` object, this will only work if `bin` is **checked**\n",
    "3. There is no way to pre-populate dropdowns with all available options for a given function argument"
   ]
  }
 ],
 "metadata": {
  "kernelspec": {
   "display_name": "Python 3 (ipykernel)",
   "language": "python",
   "name": "python3"
  },
  "language_info": {
   "codemirror_mode": {
    "name": "ipython",
    "version": 3
   },
   "file_extension": ".py",
   "mimetype": "text/x-python",
   "name": "python",
   "nbconvert_exporter": "python",
   "pygments_lexer": "ipython3",
   "version": "3.9.7"
  }
 },
 "nbformat": 4,
 "nbformat_minor": 4
}
