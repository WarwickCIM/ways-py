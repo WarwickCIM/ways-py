{
 "cells": [
  {
   "cell_type": "markdown",
   "metadata": {},
   "source": [
    "# Altair Choropleths play\n",
    "\n",
    "Here I load in James' presidential polls dataset from the teaching notebook in this dir and attempt some rudimentary WAYS ideas."
   ]
  },
  {
   "cell_type": "code",
   "execution_count": 1,
   "metadata": {},
   "outputs": [],
   "source": [
    "%%capture\n",
    "# capture suppresses output of the below:\n",
    "# Install a pip package in the current Jupyter kernel\n",
    "import sys\n",
    "!{sys.executable} -m pip install -r requirements.txt"
   ]
  },
  {
   "cell_type": "code",
   "execution_count": 2,
   "metadata": {},
   "outputs": [],
   "source": [
    "import geopandas as gpd \n",
    "import pandas as pd\n",
    "import altair as alt\n",
    "\n",
    "geo_states = gpd.read_file('choropleth_teaching/gz_2010_us_040_00_500k.json')\n",
    "df_polls = pd.read_csv('choropleth_teaching/presidential_poll_averages_2020.csv')"
   ]
  },
  {
   "cell_type": "code",
   "execution_count": 3,
   "metadata": {},
   "outputs": [
    {
     "data": {
      "text/html": [
       "<div>\n",
       "<style scoped>\n",
       "    .dataframe tbody tr th:only-of-type {\n",
       "        vertical-align: middle;\n",
       "    }\n",
       "\n",
       "    .dataframe tbody tr th {\n",
       "        vertical-align: top;\n",
       "    }\n",
       "\n",
       "    .dataframe thead th {\n",
       "        text-align: right;\n",
       "    }\n",
       "</style>\n",
       "<table border=\"1\" class=\"dataframe\">\n",
       "  <thead>\n",
       "    <tr style=\"text-align: right;\">\n",
       "      <th></th>\n",
       "      <th>cycle</th>\n",
       "      <th>state</th>\n",
       "      <th>modeldate</th>\n",
       "      <th>candidate_name</th>\n",
       "      <th>pct_estimate</th>\n",
       "      <th>pct_trend_adjusted</th>\n",
       "    </tr>\n",
       "  </thead>\n",
       "  <tbody>\n",
       "    <tr>\n",
       "      <th>0</th>\n",
       "      <td>2020</td>\n",
       "      <td>Wyoming</td>\n",
       "      <td>11/03/2020</td>\n",
       "      <td>Joseph R. Biden Jr.</td>\n",
       "      <td>30.81486</td>\n",
       "      <td>30.82599</td>\n",
       "    </tr>\n",
       "    <tr>\n",
       "      <th>1</th>\n",
       "      <td>2020</td>\n",
       "      <td>Wisconsin</td>\n",
       "      <td>11/03/2020</td>\n",
       "      <td>Joseph R. Biden Jr.</td>\n",
       "      <td>52.12642</td>\n",
       "      <td>52.09584</td>\n",
       "    </tr>\n",
       "    <tr>\n",
       "      <th>2</th>\n",
       "      <td>2020</td>\n",
       "      <td>West Virginia</td>\n",
       "      <td>11/03/2020</td>\n",
       "      <td>Joseph R. Biden Jr.</td>\n",
       "      <td>33.49125</td>\n",
       "      <td>33.51517</td>\n",
       "    </tr>\n",
       "    <tr>\n",
       "      <th>3</th>\n",
       "      <td>2020</td>\n",
       "      <td>Washington</td>\n",
       "      <td>11/03/2020</td>\n",
       "      <td>Joseph R. Biden Jr.</td>\n",
       "      <td>59.34201</td>\n",
       "      <td>59.39408</td>\n",
       "    </tr>\n",
       "    <tr>\n",
       "      <th>4</th>\n",
       "      <td>2020</td>\n",
       "      <td>Virginia</td>\n",
       "      <td>11/03/2020</td>\n",
       "      <td>Joseph R. Biden Jr.</td>\n",
       "      <td>53.74120</td>\n",
       "      <td>53.72101</td>\n",
       "    </tr>\n",
       "  </tbody>\n",
       "</table>\n",
       "</div>"
      ],
      "text/plain": [
       "   cycle          state   modeldate       candidate_name  pct_estimate  \\\n",
       "0   2020        Wyoming  11/03/2020  Joseph R. Biden Jr.      30.81486   \n",
       "1   2020      Wisconsin  11/03/2020  Joseph R. Biden Jr.      52.12642   \n",
       "2   2020  West Virginia  11/03/2020  Joseph R. Biden Jr.      33.49125   \n",
       "3   2020     Washington  11/03/2020  Joseph R. Biden Jr.      59.34201   \n",
       "4   2020       Virginia  11/03/2020  Joseph R. Biden Jr.      53.74120   \n",
       "\n",
       "   pct_trend_adjusted  \n",
       "0            30.82599  \n",
       "1            52.09584  \n",
       "2            33.51517  \n",
       "3            59.39408  \n",
       "4            53.72101  "
      ]
     },
     "execution_count": 3,
     "metadata": {},
     "output_type": "execute_result"
    }
   ],
   "source": [
    "df_polls.head()"
   ]
  },
  {
   "cell_type": "markdown",
   "metadata": {},
   "source": [
    "On how many dates was the polling done?"
   ]
  },
  {
   "cell_type": "code",
   "execution_count": 4,
   "metadata": {},
   "outputs": [
    {
     "data": {
      "text/plain": [
       "251"
      ]
     },
     "execution_count": 4,
     "metadata": {},
     "output_type": "execute_result"
    }
   ],
   "source": [
    "len(df_polls.modeldate.unique())"
   ]
  },
  {
   "cell_type": "markdown",
   "metadata": {},
   "source": [
    "Filter our poll data to remove third party candidates."
   ]
  },
  {
   "cell_type": "code",
   "execution_count": 5,
   "metadata": {},
   "outputs": [],
   "source": [
    "df_polls = df_polls[\n",
    "    (df_polls.candidate_name == 'Donald Trump') |\n",
    "    (df_polls.candidate_name == 'Joseph R. Biden Jr.')\n",
    "]"
   ]
  },
  {
   "cell_type": "markdown",
   "metadata": {},
   "source": [
    "The geo_states variable has polygons for each state."
   ]
  },
  {
   "cell_type": "code",
   "execution_count": 6,
   "metadata": {},
   "outputs": [
    {
     "data": {
      "text/html": [
       "<div>\n",
       "<style scoped>\n",
       "    .dataframe tbody tr th:only-of-type {\n",
       "        vertical-align: middle;\n",
       "    }\n",
       "\n",
       "    .dataframe tbody tr th {\n",
       "        vertical-align: top;\n",
       "    }\n",
       "\n",
       "    .dataframe thead th {\n",
       "        text-align: right;\n",
       "    }\n",
       "</style>\n",
       "<table border=\"1\" class=\"dataframe\">\n",
       "  <thead>\n",
       "    <tr style=\"text-align: right;\">\n",
       "      <th></th>\n",
       "      <th>GEO_ID</th>\n",
       "      <th>STATE</th>\n",
       "      <th>NAME</th>\n",
       "      <th>LSAD</th>\n",
       "      <th>CENSUSAREA</th>\n",
       "      <th>geometry</th>\n",
       "    </tr>\n",
       "  </thead>\n",
       "  <tbody>\n",
       "    <tr>\n",
       "      <th>0</th>\n",
       "      <td>0400000US23</td>\n",
       "      <td>23</td>\n",
       "      <td>Maine</td>\n",
       "      <td></td>\n",
       "      <td>30842.923</td>\n",
       "      <td>MULTIPOLYGON (((-67.61976 44.51975, -67.61541 ...</td>\n",
       "    </tr>\n",
       "    <tr>\n",
       "      <th>1</th>\n",
       "      <td>0400000US25</td>\n",
       "      <td>25</td>\n",
       "      <td>Massachusetts</td>\n",
       "      <td></td>\n",
       "      <td>7800.058</td>\n",
       "      <td>MULTIPOLYGON (((-70.83204 41.60650, -70.82373 ...</td>\n",
       "    </tr>\n",
       "    <tr>\n",
       "      <th>2</th>\n",
       "      <td>0400000US26</td>\n",
       "      <td>26</td>\n",
       "      <td>Michigan</td>\n",
       "      <td></td>\n",
       "      <td>56538.901</td>\n",
       "      <td>MULTIPOLYGON (((-88.68443 48.11579, -88.67563 ...</td>\n",
       "    </tr>\n",
       "    <tr>\n",
       "      <th>3</th>\n",
       "      <td>0400000US30</td>\n",
       "      <td>30</td>\n",
       "      <td>Montana</td>\n",
       "      <td></td>\n",
       "      <td>145545.801</td>\n",
       "      <td>POLYGON ((-104.05770 44.99743, -104.25015 44.9...</td>\n",
       "    </tr>\n",
       "    <tr>\n",
       "      <th>4</th>\n",
       "      <td>0400000US32</td>\n",
       "      <td>32</td>\n",
       "      <td>Nevada</td>\n",
       "      <td></td>\n",
       "      <td>109781.180</td>\n",
       "      <td>POLYGON ((-114.05060 37.00040, -114.04999 36.9...</td>\n",
       "    </tr>\n",
       "  </tbody>\n",
       "</table>\n",
       "</div>"
      ],
      "text/plain": [
       "        GEO_ID STATE           NAME LSAD  CENSUSAREA  \\\n",
       "0  0400000US23    23          Maine        30842.923   \n",
       "1  0400000US25    25  Massachusetts         7800.058   \n",
       "2  0400000US26    26       Michigan        56538.901   \n",
       "3  0400000US30    30        Montana       145545.801   \n",
       "4  0400000US32    32         Nevada       109781.180   \n",
       "\n",
       "                                            geometry  \n",
       "0  MULTIPOLYGON (((-67.61976 44.51975, -67.61541 ...  \n",
       "1  MULTIPOLYGON (((-70.83204 41.60650, -70.82373 ...  \n",
       "2  MULTIPOLYGON (((-88.68443 48.11579, -88.67563 ...  \n",
       "3  POLYGON ((-104.05770 44.99743, -104.25015 44.9...  \n",
       "4  POLYGON ((-114.05060 37.00040, -114.04999 36.9...  "
      ]
     },
     "execution_count": 6,
     "metadata": {},
     "output_type": "execute_result"
    }
   ],
   "source": [
    "geo_states.head()"
   ]
  },
  {
   "cell_type": "code",
   "execution_count": 7,
   "metadata": {},
   "outputs": [],
   "source": [
    "trump_data = df_polls[\n",
    "    df_polls.candidate_name == 'Donald Trump'\n",
    "]\n",
    "\n",
    "biden_data = df_polls[\n",
    "    df_polls.candidate_name == 'Joseph R. Biden Jr.'\n",
    "]"
   ]
  },
  {
   "cell_type": "markdown",
   "metadata": {},
   "source": [
    "Our spatial and poll data have the name of the state in common. We will change the name of the state to NAME to match our geospatial dataframe."
   ]
  },
  {
   "cell_type": "code",
   "execution_count": 8,
   "metadata": {},
   "outputs": [],
   "source": [
    "trump_data.columns = ['cycle', 'NAME', 'modeldate', 'candidate_name', 'pct_estimate', 'pct_trend_adjusted']\n",
    "biden_data.columns = ['cycle', 'NAME', 'modeldate', 'candidate_name', 'pct_estimate', 'pct_trend_adjusted']"
   ]
  },
  {
   "cell_type": "markdown",
   "metadata": {},
   "source": [
    "We can join the geospatial and poll data using the NAME column (the name of the state)."
   ]
  },
  {
   "cell_type": "code",
   "execution_count": 9,
   "metadata": {},
   "outputs": [],
   "source": [
    "# Create seperate date frame for trump and biden\n",
    "# Add the poll data\n",
    "geo_states_trump = geo_states.merge(trump_data, on='NAME')\n",
    "geo_states_biden = geo_states.merge(biden_data, on='NAME')"
   ]
  },
  {
   "cell_type": "code",
   "execution_count": 10,
   "metadata": {},
   "outputs": [
    {
     "data": {
      "text/html": [
       "<div>\n",
       "<style scoped>\n",
       "    .dataframe tbody tr th:only-of-type {\n",
       "        vertical-align: middle;\n",
       "    }\n",
       "\n",
       "    .dataframe tbody tr th {\n",
       "        vertical-align: top;\n",
       "    }\n",
       "\n",
       "    .dataframe thead th {\n",
       "        text-align: right;\n",
       "    }\n",
       "</style>\n",
       "<table border=\"1\" class=\"dataframe\">\n",
       "  <thead>\n",
       "    <tr style=\"text-align: right;\">\n",
       "      <th></th>\n",
       "      <th>GEO_ID</th>\n",
       "      <th>STATE</th>\n",
       "      <th>NAME</th>\n",
       "      <th>LSAD</th>\n",
       "      <th>CENSUSAREA</th>\n",
       "      <th>geometry</th>\n",
       "      <th>cycle</th>\n",
       "      <th>modeldate</th>\n",
       "      <th>candidate_name</th>\n",
       "      <th>pct_estimate</th>\n",
       "      <th>pct_trend_adjusted</th>\n",
       "    </tr>\n",
       "  </thead>\n",
       "  <tbody>\n",
       "    <tr>\n",
       "      <th>0</th>\n",
       "      <td>0400000US23</td>\n",
       "      <td>23</td>\n",
       "      <td>Maine</td>\n",
       "      <td></td>\n",
       "      <td>30842.923</td>\n",
       "      <td>MULTIPOLYGON (((-67.61976 44.51975, -67.61541 ...</td>\n",
       "      <td>2020</td>\n",
       "      <td>11/03/2020</td>\n",
       "      <td>Donald Trump</td>\n",
       "      <td>40.34410</td>\n",
       "      <td>40.31588</td>\n",
       "    </tr>\n",
       "    <tr>\n",
       "      <th>1</th>\n",
       "      <td>0400000US23</td>\n",
       "      <td>23</td>\n",
       "      <td>Maine</td>\n",
       "      <td></td>\n",
       "      <td>30842.923</td>\n",
       "      <td>MULTIPOLYGON (((-67.61976 44.51975, -67.61541 ...</td>\n",
       "      <td>2020</td>\n",
       "      <td>11/02/2020</td>\n",
       "      <td>Donald Trump</td>\n",
       "      <td>40.34410</td>\n",
       "      <td>40.31588</td>\n",
       "    </tr>\n",
       "    <tr>\n",
       "      <th>2</th>\n",
       "      <td>0400000US23</td>\n",
       "      <td>23</td>\n",
       "      <td>Maine</td>\n",
       "      <td></td>\n",
       "      <td>30842.923</td>\n",
       "      <td>MULTIPOLYGON (((-67.61976 44.51975, -67.61541 ...</td>\n",
       "      <td>2020</td>\n",
       "      <td>11/01/2020</td>\n",
       "      <td>Donald Trump</td>\n",
       "      <td>40.26210</td>\n",
       "      <td>40.40494</td>\n",
       "    </tr>\n",
       "    <tr>\n",
       "      <th>3</th>\n",
       "      <td>0400000US23</td>\n",
       "      <td>23</td>\n",
       "      <td>Maine</td>\n",
       "      <td></td>\n",
       "      <td>30842.923</td>\n",
       "      <td>MULTIPOLYGON (((-67.61976 44.51975, -67.61541 ...</td>\n",
       "      <td>2020</td>\n",
       "      <td>10/31/2020</td>\n",
       "      <td>Donald Trump</td>\n",
       "      <td>39.72185</td>\n",
       "      <td>39.90508</td>\n",
       "    </tr>\n",
       "    <tr>\n",
       "      <th>4</th>\n",
       "      <td>0400000US23</td>\n",
       "      <td>23</td>\n",
       "      <td>Maine</td>\n",
       "      <td></td>\n",
       "      <td>30842.923</td>\n",
       "      <td>MULTIPOLYGON (((-67.61976 44.51975, -67.61541 ...</td>\n",
       "      <td>2020</td>\n",
       "      <td>10/30/2020</td>\n",
       "      <td>Donald Trump</td>\n",
       "      <td>39.69638</td>\n",
       "      <td>39.83428</td>\n",
       "    </tr>\n",
       "  </tbody>\n",
       "</table>\n",
       "</div>"
      ],
      "text/plain": [
       "        GEO_ID STATE   NAME LSAD  CENSUSAREA  \\\n",
       "0  0400000US23    23  Maine        30842.923   \n",
       "1  0400000US23    23  Maine        30842.923   \n",
       "2  0400000US23    23  Maine        30842.923   \n",
       "3  0400000US23    23  Maine        30842.923   \n",
       "4  0400000US23    23  Maine        30842.923   \n",
       "\n",
       "                                            geometry  cycle   modeldate  \\\n",
       "0  MULTIPOLYGON (((-67.61976 44.51975, -67.61541 ...   2020  11/03/2020   \n",
       "1  MULTIPOLYGON (((-67.61976 44.51975, -67.61541 ...   2020  11/02/2020   \n",
       "2  MULTIPOLYGON (((-67.61976 44.51975, -67.61541 ...   2020  11/01/2020   \n",
       "3  MULTIPOLYGON (((-67.61976 44.51975, -67.61541 ...   2020  10/31/2020   \n",
       "4  MULTIPOLYGON (((-67.61976 44.51975, -67.61541 ...   2020  10/30/2020   \n",
       "\n",
       "  candidate_name  pct_estimate  pct_trend_adjusted  \n",
       "0   Donald Trump      40.34410            40.31588  \n",
       "1   Donald Trump      40.34410            40.31588  \n",
       "2   Donald Trump      40.26210            40.40494  \n",
       "3   Donald Trump      39.72185            39.90508  \n",
       "4   Donald Trump      39.69638            39.83428  "
      ]
     },
     "execution_count": 10,
     "metadata": {},
     "output_type": "execute_result"
    }
   ],
   "source": [
    "geo_states_trump.head()"
   ]
  },
  {
   "cell_type": "code",
   "execution_count": 11,
   "metadata": {},
   "outputs": [
    {
     "data": {
      "text/html": [
       "<div>\n",
       "<style scoped>\n",
       "    .dataframe tbody tr th:only-of-type {\n",
       "        vertical-align: middle;\n",
       "    }\n",
       "\n",
       "    .dataframe tbody tr th {\n",
       "        vertical-align: top;\n",
       "    }\n",
       "\n",
       "    .dataframe thead th {\n",
       "        text-align: right;\n",
       "    }\n",
       "</style>\n",
       "<table border=\"1\" class=\"dataframe\">\n",
       "  <thead>\n",
       "    <tr style=\"text-align: right;\">\n",
       "      <th></th>\n",
       "      <th>GEO_ID</th>\n",
       "      <th>STATE</th>\n",
       "      <th>NAME</th>\n",
       "      <th>LSAD</th>\n",
       "      <th>CENSUSAREA</th>\n",
       "      <th>geometry</th>\n",
       "      <th>cycle</th>\n",
       "      <th>modeldate</th>\n",
       "      <th>candidate_name</th>\n",
       "      <th>pct_estimate</th>\n",
       "      <th>pct_trend_adjusted</th>\n",
       "    </tr>\n",
       "  </thead>\n",
       "  <tbody>\n",
       "    <tr>\n",
       "      <th>0</th>\n",
       "      <td>0400000US23</td>\n",
       "      <td>23</td>\n",
       "      <td>Maine</td>\n",
       "      <td></td>\n",
       "      <td>30842.923</td>\n",
       "      <td>MULTIPOLYGON (((-67.61976 44.51975, -67.61541 ...</td>\n",
       "      <td>2020</td>\n",
       "      <td>11/03/2020</td>\n",
       "      <td>Joseph R. Biden Jr.</td>\n",
       "      <td>53.31518</td>\n",
       "      <td>53.32106</td>\n",
       "    </tr>\n",
       "    <tr>\n",
       "      <th>1</th>\n",
       "      <td>0400000US23</td>\n",
       "      <td>23</td>\n",
       "      <td>Maine</td>\n",
       "      <td></td>\n",
       "      <td>30842.923</td>\n",
       "      <td>MULTIPOLYGON (((-67.61976 44.51975, -67.61541 ...</td>\n",
       "      <td>2020</td>\n",
       "      <td>11/02/2020</td>\n",
       "      <td>Joseph R. Biden Jr.</td>\n",
       "      <td>53.31518</td>\n",
       "      <td>53.32106</td>\n",
       "    </tr>\n",
       "    <tr>\n",
       "      <th>2</th>\n",
       "      <td>0400000US23</td>\n",
       "      <td>23</td>\n",
       "      <td>Maine</td>\n",
       "      <td></td>\n",
       "      <td>30842.923</td>\n",
       "      <td>MULTIPOLYGON (((-67.61976 44.51975, -67.61541 ...</td>\n",
       "      <td>2020</td>\n",
       "      <td>11/01/2020</td>\n",
       "      <td>Joseph R. Biden Jr.</td>\n",
       "      <td>53.70696</td>\n",
       "      <td>53.91672</td>\n",
       "    </tr>\n",
       "    <tr>\n",
       "      <th>3</th>\n",
       "      <td>0400000US23</td>\n",
       "      <td>23</td>\n",
       "      <td>Maine</td>\n",
       "      <td></td>\n",
       "      <td>30842.923</td>\n",
       "      <td>MULTIPOLYGON (((-67.61976 44.51975, -67.61541 ...</td>\n",
       "      <td>2020</td>\n",
       "      <td>10/31/2020</td>\n",
       "      <td>Joseph R. Biden Jr.</td>\n",
       "      <td>53.30098</td>\n",
       "      <td>53.55544</td>\n",
       "    </tr>\n",
       "    <tr>\n",
       "      <th>4</th>\n",
       "      <td>0400000US23</td>\n",
       "      <td>23</td>\n",
       "      <td>Maine</td>\n",
       "      <td></td>\n",
       "      <td>30842.923</td>\n",
       "      <td>MULTIPOLYGON (((-67.61976 44.51975, -67.61541 ...</td>\n",
       "      <td>2020</td>\n",
       "      <td>10/30/2020</td>\n",
       "      <td>Joseph R. Biden Jr.</td>\n",
       "      <td>53.34166</td>\n",
       "      <td>53.64551</td>\n",
       "    </tr>\n",
       "  </tbody>\n",
       "</table>\n",
       "</div>"
      ],
      "text/plain": [
       "        GEO_ID STATE   NAME LSAD  CENSUSAREA  \\\n",
       "0  0400000US23    23  Maine        30842.923   \n",
       "1  0400000US23    23  Maine        30842.923   \n",
       "2  0400000US23    23  Maine        30842.923   \n",
       "3  0400000US23    23  Maine        30842.923   \n",
       "4  0400000US23    23  Maine        30842.923   \n",
       "\n",
       "                                            geometry  cycle   modeldate  \\\n",
       "0  MULTIPOLYGON (((-67.61976 44.51975, -67.61541 ...   2020  11/03/2020   \n",
       "1  MULTIPOLYGON (((-67.61976 44.51975, -67.61541 ...   2020  11/02/2020   \n",
       "2  MULTIPOLYGON (((-67.61976 44.51975, -67.61541 ...   2020  11/01/2020   \n",
       "3  MULTIPOLYGON (((-67.61976 44.51975, -67.61541 ...   2020  10/31/2020   \n",
       "4  MULTIPOLYGON (((-67.61976 44.51975, -67.61541 ...   2020  10/30/2020   \n",
       "\n",
       "        candidate_name  pct_estimate  pct_trend_adjusted  \n",
       "0  Joseph R. Biden Jr.      53.31518            53.32106  \n",
       "1  Joseph R. Biden Jr.      53.31518            53.32106  \n",
       "2  Joseph R. Biden Jr.      53.70696            53.91672  \n",
       "3  Joseph R. Biden Jr.      53.30098            53.55544  \n",
       "4  Joseph R. Biden Jr.      53.34166            53.64551  "
      ]
     },
     "execution_count": 11,
     "metadata": {},
     "output_type": "execute_result"
    }
   ],
   "source": [
    "geo_states_biden.head()"
   ]
  },
  {
   "cell_type": "code",
   "execution_count": 12,
   "metadata": {},
   "outputs": [],
   "source": [
    "# Convert the dates to timestamps\n",
    "# geo_states_biden['modeldate']= pd.to_datetime(geo_states_biden['modeldate'])\n",
    "# geo_states_trump['modeldate']= pd.to_datetime(geo_states_trump['modeldate'])"
   ]
  },
  {
   "cell_type": "markdown",
   "metadata": {},
   "source": [
    "### Create choropleth plot function"
   ]
  },
  {
   "cell_type": "code",
   "execution_count": 13,
   "metadata": {},
   "outputs": [],
   "source": [
    "def usa_choro(candidate_geo_states, bin, scale, title):\n",
    "    \"\"\"Plot a choropleth of the US states with the candidate vote percentage mapped to the color;\n",
    "    pass in altair bin and scale objects\"\"\"\n",
    "    chart = alt.Chart(candidate_geo_states, title=title).mark_geoshape()\n",
    "    chart = chart.encode(\n",
    "        alt.Color('pct_estimate',\n",
    "                  bin=bin,\n",
    "                  scale=scale\n",
    "                 ),\n",
    "        tooltip=['NAME', 'pct_estimate']\n",
    "    ).properties(\n",
    "        width=500,\n",
    "        height=300\n",
    "    ).project(\n",
    "        type='albersUsa'\n",
    "    )\n",
    "    return chart"
   ]
  },
  {
   "cell_type": "markdown",
   "metadata": {},
   "source": [
    "### Create \"metavisualisation\" histogram"
   ]
  },
  {
   "cell_type": "code",
   "execution_count": 14,
   "metadata": {},
   "outputs": [],
   "source": [
    "def meta_hist(candidate_geo_states, bin, scale):\n",
    "    \"\"\"Plot a histogram of the dataset with binning and colouring that matches the choropleth\n",
    "    if you give it the same bin and scale objects\"\"\"\n",
    "    hist = alt.Chart(candidate_geo_states).mark_bar().encode(\n",
    "        alt.X(\"pct_estimate\", bin=bin),\n",
    "        y='count()',\n",
    "    ).encode(\n",
    "        alt.Color('pct_estimate',\n",
    "                  bin=bin,\n",
    "                  scale=scale\n",
    "                 )\n",
    "    ).properties(\n",
    "        width=300,\n",
    "        height=300\n",
    "    )\n",
    "    return hist"
   ]
  },
  {
   "cell_type": "markdown",
   "metadata": {},
   "source": [
    "## Adding interactivity with Jupyter interact widgets\n",
    "\n",
    "Here I attempt to offer the user working on the the US presidential poll choropleth visualisation some options related to the colour-binning."
   ]
  },
  {
   "cell_type": "code",
   "execution_count": 15,
   "metadata": {},
   "outputs": [],
   "source": [
    "from ipywidgets import interact, widgets"
   ]
  },
  {
   "cell_type": "code",
   "execution_count": 16,
   "metadata": {},
   "outputs": [],
   "source": [
    "# Get an ordered list of the dates (as strings) on which polling occured\n",
    "import datetime\n",
    "unsorted_datestrings = list(set(list(geo_states_biden['modeldate'])))\n",
    "dates = sorted(unsorted_datestrings, key=lambda x: datetime.datetime.strptime(x, '%m/%d/%Y'))"
   ]
  },
  {
   "cell_type": "markdown",
   "metadata": {},
   "source": [
    "Get a list of possible altair scales from [here](https://altair-viz.github.io/user_guide/generated/core/altair.ScaleType.html#altair.ScaleType) and create a list:"
   ]
  },
  {
   "cell_type": "code",
   "execution_count": 21,
   "metadata": {},
   "outputs": [],
   "source": [
    "scales = ['linear', 'log', 'pow', 'sqrt', 'symlog', 'identity', 'sequential', 'time', 'utc', 'quantile', 'quantize', 'threshold', 'bin-ordinal', 'ordinal', 'point', 'band']"
   ]
  },
  {
   "cell_type": "code",
   "execution_count": 24,
   "metadata": {},
   "outputs": [
    {
     "data": {
      "application/vnd.jupyter.widget-view+json": {
       "model_id": "514195585075418a8803723137eb5e30",
       "version_major": 2,
       "version_minor": 0
      },
      "text/plain": [
       "interactive(children=(Dropdown(description='candidate', options=('Trump', 'Biden'), value='Trump'), SelectionS…"
      ]
     },
     "metadata": {},
     "output_type": "display_data"
    }
   ],
   "source": [
    "# Create widgets\n",
    "extent_slider = widgets.IntRangeSlider(value=[0,100], min=0, max=100)\n",
    "date_dropdown = widgets.SelectionSlider(value='11/03/2020', options=dates)\n",
    "scales_dropdown = widgets.Dropdown(value='band', options=scales)\n",
    "\n",
    "# Define interactive plot function\n",
    "@interact\n",
    "def interact_usa_choro(candidate=['Trump', 'Biden'], date=date_dropdown, bin=True, maxbins=(2, 100, 1), scale=scales_dropdown, extent=extent_slider):\n",
    "    \n",
    "    # Chooses the candidate dataset\n",
    "    candidate_geo_states = geo_states_biden\n",
    "    if candidate == 'Trump':\n",
    "        candidate_geo_states = geo_states_trump\n",
    "    \n",
    "    # Choose which polling date to display\n",
    "    candidate_geo_states = candidate_geo_states[\n",
    "        (candidate_geo_states.modeldate == date)\n",
    "    ]\n",
    "    \n",
    "    # Give the choropleth plot a title\n",
    "    title = 'Poll estimate for ' + candidate + ' on ' + date\n",
    "    \n",
    "    # Creates the bin and scale objects, to be passed to both plots\n",
    "    if bin: # if bin is False, leave as bool\n",
    "        bin = alt.Bin(maxbins=maxbins, extent=extent)\n",
    "    scale = alt.Scale(type=scale)\n",
    "    \n",
    "    # Generate both plots and place them horizontally\n",
    "    return usa_choro(candidate_geo_states, bin, scale, title) | meta_hist(candidate_geo_states, bin, scale)"
   ]
  },
  {
   "cell_type": "markdown",
   "metadata": {},
   "source": [
    "Notes:\n",
    "1. Setting the scale to `log` doesn't work unless `bin` is **unchecked**\n",
    "2. Because the `extent` data range plugs into the `alt.Bin` object, this will only work if `bin` is **checked**"
   ]
  },
  {
   "cell_type": "markdown",
   "metadata": {},
   "source": [
    "### Can we pre-populate dropdowns with all available options for a given function argument?"
   ]
  },
  {
   "cell_type": "code",
   "execution_count": 18,
   "metadata": {},
   "outputs": [
    {
     "ename": "TypeError",
     "evalue": "usa_choro() missing 3 required positional arguments: 'bin', 'scale', and 'title'",
     "output_type": "error",
     "traceback": [
      "\u001b[0;31m---------------------------------------------------------------------------\u001b[0m",
      "\u001b[0;31mTypeError\u001b[0m                                 Traceback (most recent call last)",
      "\u001b[0;32m<ipython-input-18-b8bd1afc6232>\u001b[0m in \u001b[0;36m<module>\u001b[0;34m\u001b[0m\n\u001b[0;32m----> 1\u001b[0;31m \u001b[0mexample\u001b[0m \u001b[0;34m=\u001b[0m \u001b[0musa_choro\u001b[0m\u001b[0;34m(\u001b[0m\u001b[0mgeo_states_trump\u001b[0m\u001b[0;34m)\u001b[0m\u001b[0;34m\u001b[0m\u001b[0;34m\u001b[0m\u001b[0m\n\u001b[0m\u001b[1;32m      2\u001b[0m \u001b[0mexample\u001b[0m\u001b[0;34m.\u001b[0m\u001b[0m__code__\u001b[0m\u001b[0;34m.\u001b[0m\u001b[0mco_varnames\u001b[0m\u001b[0;34m\u001b[0m\u001b[0;34m\u001b[0m\u001b[0m\n",
      "\u001b[0;31mTypeError\u001b[0m: usa_choro() missing 3 required positional arguments: 'bin', 'scale', and 'title'"
     ]
    }
   ],
   "source": [
    "example = usa_choro(geo_states_trump)\n",
    "example.__code__.co_varnames"
   ]
  },
  {
   "cell_type": "code",
   "execution_count": null,
   "metadata": {},
   "outputs": [],
   "source": [
    "import inspect"
   ]
  },
  {
   "cell_type": "code",
   "execution_count": null,
   "metadata": {},
   "outputs": [],
   "source": [
    "def get_default_args(func):\n",
    "    signature = inspect.signature(func)\n",
    "    return {\n",
    "        k: v.default\n",
    "        for k, v in signature.parameters.items()\n",
    "        if v.default is not inspect.Parameter.empty\n",
    "    }\n",
    "get_default_args(alt.Scale)"
   ]
  },
  {
   "cell_type": "code",
   "execution_count": null,
   "metadata": {},
   "outputs": [],
   "source": [
    "[t.value for t in alt.ScaleType]"
   ]
  },
  {
   "cell_type": "code",
   "execution_count": null,
   "metadata": {},
   "outputs": [],
   "source": [
    "print(inspect.signature(alt.Color))\n",
    "print('')\n",
    "print(inspect.signature(alt.Chart))"
   ]
  },
  {
   "cell_type": "code",
   "execution_count": null,
   "metadata": {},
   "outputs": [],
   "source": [
    "inspect.signature(alt.Scale)"
   ]
  },
  {
   "cell_type": "code",
   "execution_count": null,
   "metadata": {},
   "outputs": [],
   "source": [
    "print(inspect.signature(alt.ScaleType))"
   ]
  },
  {
   "cell_type": "markdown",
   "metadata": {},
   "source": [
    "Find a way to return the enumerated values in [this class](https://altair-viz.github.io/user_guide/generated/core/altair.ScaleType.html#altair.ScaleType)"
   ]
  }
 ],
 "metadata": {
  "kernelspec": {
   "display_name": "Python 3",
   "language": "python",
   "name": "python3"
  },
  "language_info": {
   "codemirror_mode": {
    "name": "ipython",
    "version": 3
   },
   "file_extension": ".py",
   "mimetype": "text/x-python",
   "name": "python",
   "nbconvert_exporter": "python",
   "pygments_lexer": "ipython3",
   "version": "3.7.4"
  }
 },
 "nbformat": 4,
 "nbformat_minor": 4
}
