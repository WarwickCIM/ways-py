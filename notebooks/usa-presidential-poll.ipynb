{
 "cells": [
  {
   "cell_type": "markdown",
   "metadata": {},
   "source": [
    "# WAYS: What Aren't You Seeing?\n",
    "## <u>A demo of the WAYS philosophy and python package</u>\n",
    "\n",
    "In this demo, we demonstrate the WAYS philosophy for exploring the decisions made during the process of plotting a dataset, via the WAYS Python package, developed at The Alan Turing Institute.\n",
    "\n",
    "In this notebook, we load polling dataset from the 2020 USA presidential race and generate a choropleth map plot using the `altair` package in Python. We then use the WAYS package, to add meta-visualisation to the plots and interactive widgets. These features encourage the developer of the plot to question and evaluate the design choices made and the story being told, in advance of sharing their plot more widely."
   ]
  },
  {
   "cell_type": "markdown",
   "metadata": {},
   "source": [
    "### Install requirements for this notebook"
   ]
  },
  {
   "cell_type": "code",
   "execution_count": null,
   "metadata": {},
   "outputs": [],
   "source": [
    "%%capture\n",
    "!poetry install"
   ]
  },
  {
   "cell_type": "markdown",
   "metadata": {},
   "source": [
    "### Import WAYS and required packages for this notebook"
   ]
  },
  {
   "cell_type": "code",
   "execution_count": null,
   "metadata": {},
   "outputs": [],
   "source": [
    "import geopandas as gpd \n",
    "import pandas as pd\n",
    "import altair as alt\n",
    "\n",
    "# Import function that loads data and pre-processes\n",
    "from process_USA_polling import get_choropleth_data \n",
    "import sys; sys.path.insert(0, '..')\n",
    "from ways_py.ways import altair_color_viz, AltairColorWidgets, altair_color_widgets"
   ]
  },
  {
   "cell_type": "markdown",
   "metadata": {},
   "source": [
    "### Load presidential polling dataset\n",
    "\n",
    "The dataset we plot here has been created from a polls taken in the 2020 USA presidential race, for candidates Joe Biden and Donald Trump, along with geospatial data for the United States."
   ]
  },
  {
   "cell_type": "code",
   "execution_count": null,
   "metadata": {},
   "outputs": [],
   "source": [
    "geo_states_trump_biden = get_choropleth_data()"
   ]
  },
  {
   "cell_type": "code",
   "execution_count": null,
   "metadata": {},
   "outputs": [],
   "source": [
    "geo_states_trump_biden.head()"
   ]
  },
  {
   "cell_type": "markdown",
   "metadata": {},
   "source": [
    "In the first instance, we'll look at Biden's polling data for particular date and use that to plot a choropleth map plot."
   ]
  },
  {
   "cell_type": "code",
   "execution_count": null,
   "metadata": {},
   "outputs": [],
   "source": [
    "# Get Biden's data for a specific date\n",
    "biden_march = geo_states_trump_biden[\n",
    "    (geo_states_trump_biden.modeldate == '11/03/2020')\n",
    "][\n",
    "    (geo_states_trump_biden.candidate_name == 'Joseph R. Biden Jr.')\n",
    "]"
   ]
  },
  {
   "cell_type": "markdown",
   "metadata": {},
   "source": [
    "## Plotting the data\n",
    "\n",
    "Here is an example of a choropleth plot to visualise this data that can be generated with the `altair` plotting package, showing Biden's poll percentage estimate for each state. Note the choices made in the code here. Is this the most informative way of visualising this data?"
   ]
  },
  {
   "cell_type": "code",
   "execution_count": null,
   "metadata": {},
   "outputs": [],
   "source": [
    "biden_choropleth = alt.Chart(biden_march, title='Poll estimate for Biden on 11/03/2020').mark_geoshape().encode(\n",
    "    alt.Color('pct_estimate'),\n",
    "    tooltip=['NAME', 'pct_estimate']\n",
    ").properties(\n",
    "    width=500,\n",
    "    height=300\n",
    ").project(\n",
    "    type='albersUsa'\n",
    ")\n",
    "display(biden_choropleth)"
   ]
  },
  {
   "cell_type": "markdown",
   "metadata": {},
   "source": [
    "## How could this plot be improved?\n",
    "\n",
    "One modification we could make to the plot above would be to to acknowledge the fact we are plotting percentages and extend the colour scheme over a 0-100% range, rather than between the lowest and highest data points.\n",
    "\n",
    "Another thing could be to choose a colour scale more appropriate for US political polling, such as a red to blue (though for this dataset, the assumption that subtracting Biden's percentage from the total gives you Trump's percentage is incorrect).\n",
    "\n",
    "Perhaps we'd also like to bin the colour scale rather than keep the continuous scale, so there are a smaller number of colours for the states in the choropleth?\n",
    "\n",
    "Altair gives us the option to do all of these things:"
   ]
  },
  {
   "cell_type": "code",
   "execution_count": null,
   "metadata": {},
   "outputs": [],
   "source": [
    "biden_choropleth = alt.Chart(biden_march, title='Poll estimate for Biden on 11/03/2020').mark_geoshape().encode(\n",
    "    alt.Color('pct_estimate',\n",
    "              bin=alt.Bin(maxbins=10, extent=[0,100]),\n",
    "              scale=alt.Scale(scheme='redblue')\n",
    "              ),\n",
    "    tooltip=['NAME', 'pct_estimate']\n",
    ").properties(\n",
    "    width=500,\n",
    "    height=300\n",
    ").project(\n",
    "    type='albersUsa'\n",
    ")\n",
    "display(biden_choropleth)"
   ]
  },
  {
   "cell_type": "markdown",
   "metadata": {},
   "source": [
    "## but... What Aren't You Seeing?\n",
    "\n",
    "As we continue to work on this plot, the changes we make will influence how the information the plot seeks to convey is interpreted by the viewer. If our goal is to represent the data in the most informative way we can think of, it's possible that more iterations will be needed before we reach that point. What can we do to help us decide what the best options are for the various parameters of the plotting package?\n",
    "\n",
    "With the development of the WAYS (What Aren't You Seeing) Python package, we have attempted to implement some tools that will help the data scientists and other professionals creating such plots to understand the decisions they are making when setting plot parameters.\n",
    "\n",
    "We have focussed this proof-of-concept package in on the specific case of exploring the colour scale choices for plots in `Altair`, for which it can be used with our USA polling choropleth example.\n",
    "\n",
    "## Creating a choropleth plot function, decorated with WAYS \"metavisualisation\"\n",
    "\n",
    "Lets create a function out of our choropleth chart code and use the `altair_color_viz` decorator, which provides a more in-depth look at how our colour scale is being used in the plot than the default legend does.\n",
    "\n",
    "As you can see from the histogram metavisualisation added to the left of the original plot, much of the colour scale is currently unused. Would seeing this information make you recondiser the choices made for colour scale and binning used by the plot?"
   ]
  },
  {
   "cell_type": "code",
   "execution_count": null,
   "metadata": {},
   "outputs": [],
   "source": [
    "@altair_color_viz \n",
    "def usa_choro(data):\n",
    "    chart = alt.Chart(data, title='Poll estimate for Biden on 11/03/2020').mark_geoshape()\n",
    "    chart = chart.encode(\n",
    "        alt.Color('pct_estimate',\n",
    "              bin=alt.Bin(maxbins=10, extent=[0,100]),\n",
    "              scale=alt.Scale(scheme='redblue'),\n",
    "              legend=None\n",
    "              ),\n",
    "        tooltip=['NAME', 'pct_estimate']\n",
    "    ).properties(\n",
    "        width=500,\n",
    "        height=300\n",
    "    ).project(\n",
    "        type='albersUsa'\n",
    "    )\n",
    "    return chart\n",
    "# We'll display Biden's data for 11/03/2020 again\n",
    "display(usa_choro(biden_march))"
   ]
  },
  {
   "cell_type": "markdown",
   "metadata": {},
   "source": [
    "## Exploring the possibilities for the colour scale via WAYS\n",
    "\n",
    "In order to explore further what the best options are for the plot parameters, we could spend a lot of time editing the plot code in our notebook, each time re-running (or duplicating) the code cell to compare and contrast different options.\n",
    "\n",
    "The WAYS package gives us the option to load some pre-defined Jupyter widgets that control some of the key paramaters for the `altair.Color` object that we use in our plot. \n",
    "\n",
    "Let's re-create the choropleth function, this time with the `altair_widgets` decorator, which gives us some interactivity to explore Altair's colour scale options:"
   ]
  },
  {
   "cell_type": "code",
   "execution_count": null,
   "metadata": {},
   "outputs": [],
   "source": [
    "@altair_color_widgets() # will modify the usa_choro func to take args: data, column\n",
    "@altair_color_viz\n",
    "def usa_choro(data, color):\n",
    "    chart = alt.Chart(data, title='Poll estimate for Biden on 11/03/2020').mark_geoshape()\n",
    "    chart = chart.encode(\n",
    "        color, # Add color as an arg, widgets will pass in an alt.Color object to the function\n",
    "        tooltip=['NAME', 'pct_estimate']\n",
    "    ).properties(\n",
    "        width=500,\n",
    "        height=300\n",
    "    ).project(\n",
    "        type='albersUsa'\n",
    "    )\n",
    "    return chart\n",
    "usa_choro(biden_march, 'pct_estimate')"
   ]
  },
  {
   "cell_type": "markdown",
   "metadata": {},
   "source": [
    "Take some time to explore these options for the colour scale and find a combination that seems like the most informative way to represent the data. These widgets do not cover the full scope of Altair's functionality, but do you think that as the creator of this plot you would have explored as much of Altair's functionality without them?\n",
    "\n",
    "The idea here is to expose functionality that would otherwise only be noticed if the plot creator took the time to trawl through the plotting package's documentation."
   ]
  },
  {
   "cell_type": "markdown",
   "metadata": {},
   "source": [
    "## Create custom Jupyter widgets to control which parts of the data to visualise\n",
    "\n",
    "To finish off this demo of the WAYS Python package, we'll create some additional Jupyter widgets to control which parts of the full dataset to visualise."
   ]
  },
  {
   "cell_type": "code",
   "execution_count": null,
   "metadata": {},
   "outputs": [],
   "source": [
    "from ipywidgets import widgets\n",
    "import datetime\n",
    "\n",
    "# Simple dropdown to switch between Biden and Trump's data\n",
    "candidate = widgets.Dropdown(value='Biden', options=['Trump', 'Biden'], description = 'Candidate')\n",
    "\n",
    "# Get an ordered list of the dates (as strings) on which polling occured\n",
    "unsorted_datestrings = list(set(list(geo_states_trump_biden['modeldate'])))\n",
    "dates = sorted(unsorted_datestrings, key=lambda x: datetime.datetime.strptime(x, '%m/%d/%Y'))\n",
    "\n",
    "# Choose the polling date to visualise\n",
    "date = widgets.SelectionSlider(value='11/03/2020', options=dates, description='Date', continuous_update=False)\n",
    "\n",
    "# create dictionary for widgets (we'll need this later)\n",
    "data_widgets = {\n",
    "        'candidate': candidate,\n",
    "        'date': date\n",
    "}"
   ]
  },
  {
   "cell_type": "markdown",
   "metadata": {},
   "source": [
    "These data widgets can be passed into the `altair_widgets` decorator function, which will automatically add them into the widget grid. This gives us the possibility to try out the different colour scale options on both Biden and Trump's polling data and switch between different polling dates."
   ]
  },
  {
   "cell_type": "code",
   "execution_count": null,
   "metadata": {},
   "outputs": [],
   "source": [
    "@altair_color_widgets(custom_widgets=data_widgets) # will modify ratings_scatter func to take args: data, column\n",
    "@altair_color_viz\n",
    "def usa_choro(data, color):\n",
    "    # Add in some logic for the defined widgets:\n",
    "    # Select the data for the candidate chosen\n",
    "    if candidate.value == 'Trump':\n",
    "        data = data[(data.candidate_name=='Donald Trump')]\n",
    "    elif candidate.value == 'Biden':\n",
    "        data = data[(data.candidate_name=='Joseph R. Biden Jr.')]\n",
    "\n",
    "    # Choose which polling date to display\n",
    "    data = data[\n",
    "        (data.modeldate == date.value)\n",
    "    ]\n",
    "\n",
    "    # Give the choropleth plot a title\n",
    "    title = 'Poll estimate for ' + candidate.value + ' on ' + date.value\n",
    "    \n",
    "    \n",
    "    chart = alt.Chart(data, title=title).mark_geoshape()\n",
    "    chart = chart.encode(\n",
    "        color,\n",
    "        tooltip=['NAME', 'pct_estimate']\n",
    "    ).properties(\n",
    "        width=500,\n",
    "        height=300\n",
    "    ).project(\n",
    "        type='albersUsa' # TODO: use this choice to determine which scale/color options get included in dropdown\n",
    "    )\n",
    "    return chart\n",
    "usa_choro(geo_states_trump_biden, 'pct_estimate')"
   ]
  }
 ],
 "metadata": {
  "kernelspec": {
   "display_name": "Python 3 (ipykernel)",
   "language": "python",
   "name": "python3"
  },
  "language_info": {
   "codemirror_mode": {
    "name": "ipython",
    "version": 3
   },
   "file_extension": ".py",
   "mimetype": "text/x-python",
   "name": "python",
   "nbconvert_exporter": "python",
   "pygments_lexer": "ipython3",
   "version": "3.9.7"
  }
 },
 "nbformat": 4,
 "nbformat_minor": 4
}
