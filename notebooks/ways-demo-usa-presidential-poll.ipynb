{
 "cells": [
  {
   "cell_type": "markdown",
   "metadata": {},
   "source": [
    "# WAYS demo #2:\n",
    "## <u>USA Presidential Poll Choropleth</u>\n",
    "\n",
    "In this demo, we a load presidential polling dataset and generate a choropleth map plot using the `altair` package in Python. We then use the WAYS package, to add meta-visualisation to the plots and interactive widgets."
   ]
  },
  {
   "cell_type": "markdown",
   "metadata": {},
   "source": [
    "### Install requirements"
   ]
  },
  {
   "cell_type": "code",
   "execution_count": null,
   "metadata": {},
   "outputs": [],
   "source": [
    "%%capture\n",
    "# capture suppresses output of the below:\n",
    "# Install a pip package in the current Jupyter kernel\n",
    "import sys\n",
    "!{sys.executable} -m pip install -r cartopy"
   ]
  },
  {
   "cell_type": "markdown",
   "metadata": {},
   "source": [
    "### Import WAYS and required packages for this notebook"
   ]
  },
  {
   "cell_type": "code",
   "execution_count": null,
   "metadata": {},
   "outputs": [],
   "source": [
    "import geopandas as gpd \n",
    "import pandas as pd\n",
    "import altair as alt\n",
    "\n",
    "# Import WAYS\n",
    "import sys; sys.path.insert(0, '..')\n",
    "from ways_py.ways import meta_hist, WAlt, altair_widgets"
   ]
  },
  {
   "cell_type": "markdown",
   "metadata": {},
   "source": [
    "### Load data\n",
    "\n",
    "Here we load two data files, the first is a geometry dataset for the USA by states and the second is polling for candidates in the 2020 presendential election, also by states."
   ]
  },
  {
   "cell_type": "code",
   "execution_count": null,
   "metadata": {},
   "outputs": [],
   "source": [
    "geo_states = gpd.read_file('choropleth_teaching/gz_2010_us_040_00_500k.json')\n",
    "df_polls = pd.read_csv('choropleth_teaching/presidential_poll_averages_2020.csv')"
   ]
  },
  {
   "cell_type": "code",
   "execution_count": null,
   "metadata": {},
   "outputs": [],
   "source": [
    "geo_states.head()"
   ]
  },
  {
   "cell_type": "code",
   "execution_count": null,
   "metadata": {},
   "outputs": [],
   "source": [
    "df_polls.head()"
   ]
  },
  {
   "cell_type": "markdown",
   "metadata": {},
   "source": [
    "Filter our poll data to remove third party candidates:"
   ]
  },
  {
   "cell_type": "code",
   "execution_count": null,
   "metadata": {},
   "outputs": [],
   "source": [
    "trump_biden_data = df_polls[\n",
    "    df_polls['candidate_name'].isin(['Donald Trump', 'Joseph R. Biden Jr.'])\n",
    "]"
   ]
  },
  {
   "cell_type": "markdown",
   "metadata": {},
   "source": [
    "Our spatial and poll data have the name of the state in common. We will change the name of the state to NAME to match our geospatial dataframe."
   ]
  },
  {
   "cell_type": "code",
   "execution_count": null,
   "metadata": {},
   "outputs": [],
   "source": [
    "trump_biden_data.columns = ['cycle', 'NAME', 'modeldate', 'candidate_name', 'pct_estimate', 'pct_trend_adjusted']"
   ]
  },
  {
   "cell_type": "markdown",
   "metadata": {},
   "source": [
    "We can join the geospatial and poll data using the NAME column (the name of the state)."
   ]
  },
  {
   "cell_type": "code",
   "execution_count": null,
   "metadata": {},
   "outputs": [],
   "source": [
    "geo_states_trump_biden = geo_states.merge(trump_biden_data, on='NAME')"
   ]
  },
  {
   "cell_type": "markdown",
   "metadata": {},
   "source": [
    "Now we have a geographical polling datasets that look like this:"
   ]
  },
  {
   "cell_type": "code",
   "execution_count": null,
   "metadata": {},
   "outputs": [],
   "source": [
    "geo_states_trump_biden.head()"
   ]
  },
  {
   "cell_type": "markdown",
   "metadata": {},
   "source": [
    "## Plotting the data\n",
    "\n",
    "Here is an example of a choropleth plot we can generate with the `altair` plotting package:"
   ]
  },
  {
   "cell_type": "code",
   "execution_count": null,
   "metadata": {},
   "outputs": [],
   "source": [
    "# Get Biden's data for a specific date\n",
    "biden_march = geo_states_trump_biden[\n",
    "    (geo_states_trump_biden.modeldate == '11/03/2020')\n",
    "][\n",
    "    (geo_states_trump_biden.candidate_name == 'Joseph R. Biden Jr.')\n",
    "]"
   ]
  },
  {
   "cell_type": "markdown",
   "metadata": {},
   "source": [
    "### Create a choropleth with Altair"
   ]
  },
  {
   "cell_type": "code",
   "execution_count": null,
   "metadata": {},
   "outputs": [],
   "source": [
    "# Choose some options for color binning:\n",
    "color_obj = alt.Color('pct_estimate',\n",
    "                      bin=alt.Bin(maxbins=10, extent=[0,100]),\n",
    "                      scale=alt.Scale(scheme='blues')\n",
    "                     )\n",
    "# Plot a choropleth of the US states with his poll percentage mapped to the color\n",
    "biden_choropleth = alt.Chart(biden_march, title='Poll estimate for Biden on 11/03/2020').mark_geoshape().encode(\n",
    "    color=color_obj,\n",
    "    tooltip=['NAME', 'pct_estimate']\n",
    ").properties(\n",
    "    width=500,\n",
    "    height=300\n",
    ").project(\n",
    "    type='albersUsa'\n",
    ")\n",
    "display(biden_choropleth)"
   ]
  },
  {
   "cell_type": "markdown",
   "metadata": {},
   "source": [
    "## WAYS\n",
    "\n",
    "### Create choropleth plot function, decorated with WAYS meta histogram\n",
    "\n",
    "The meta histogram clearly shows the color binning options chosen."
   ]
  },
  {
   "cell_type": "code",
   "execution_count": null,
   "metadata": {},
   "outputs": [],
   "source": [
    "@meta_hist # decorators modify the output of usa_choro when called to be more than just the return\n",
    "def usa_choro(data):\n",
    "    # We'll display Biden's data for 11/03/2020 again\n",
    "    chart = alt.Chart(data, title='Poll estimate for Biden on 11/03/2020').mark_geoshape()\n",
    "    chart = chart.encode(\n",
    "        alt.Color('pct_estimate',\n",
    "                      bin=alt.Bin(maxbins=10, extent=[0,100]),\n",
    "                      legend=None,\n",
    "                      scale=alt.Scale(scheme='blues')\n",
    "                     ),\n",
    "        tooltip=['NAME', 'pct_estimate']\n",
    "    ).properties(\n",
    "        width=500,\n",
    "        height=300\n",
    "    ).project(\n",
    "        type='albersUsa'\n",
    "    )\n",
    "    return chart"
   ]
  },
  {
   "cell_type": "code",
   "execution_count": null,
   "metadata": {},
   "outputs": [],
   "source": [
    "display(usa_choro(biden_march))"
   ]
  },
  {
   "cell_type": "markdown",
   "metadata": {},
   "source": [
    "## Adding interactivity with Jupyter interact widgets\n",
    "\n",
    "Here the user working on the the US presidential poll choropleth visualisation has options related to the colour-binning controlled via widgets defined in WAYS.\n",
    "\n",
    "Re-create the chart function, this time with widgets:"
   ]
  },
  {
   "cell_type": "code",
   "execution_count": null,
   "metadata": {},
   "outputs": [],
   "source": [
    "@altair_widgets() # will modify the ratings_scatter func to take args: data, column, title\n",
    "@meta_hist\n",
    "def usa_choro(data, color):\n",
    "    chart = alt.Chart(data, title='Poll estimate for Biden on 11/03/2020').mark_geoshape()\n",
    "    chart = chart.encode(\n",
    "        color, # Add color as an arg, widgets will pass in an alt.Color object to the function\n",
    "        tooltip=['NAME', 'pct_estimate']\n",
    "    ).properties(\n",
    "        width=500,\n",
    "        height=300\n",
    "    ).project(\n",
    "        type='albersUsa' # TODO: use this choice to determine which scale/color options get included in dropdown\n",
    "    )\n",
    "    return chart"
   ]
  },
  {
   "cell_type": "code",
   "execution_count": null,
   "metadata": {},
   "outputs": [],
   "source": [
    "usa_choro(biden_march, 'pct_estimate')"
   ]
  },
  {
   "cell_type": "markdown",
   "metadata": {},
   "source": [
    "## Create custom Jupyter widgets to control which parts of the data to visualise"
   ]
  },
  {
   "cell_type": "code",
   "execution_count": null,
   "metadata": {},
   "outputs": [],
   "source": [
    "from ipywidgets import widgets\n",
    "import datetime\n",
    "\n",
    "# Simple dropdown to switch between Biden and Trump's data\n",
    "candidate = widgets.Dropdown(value='Biden', options=['Trump', 'Biden'], description = 'Candidate')\n",
    "\n",
    "# Get an ordered list of the dates (as strings) on which polling occured\n",
    "unsorted_datestrings = list(set(list(geo_states_trump_biden['modeldate'])))\n",
    "dates = sorted(unsorted_datestrings, key=lambda x: datetime.datetime.strptime(x, '%m/%d/%Y'))\n",
    "\n",
    "# Choose the polling date to visualise\n",
    "date = widgets.SelectionSlider(value='11/03/2020', options=dates, description='Date', continuous_update=False)\n",
    "\n",
    "# create dictionary for widgets (we'll need this later)\n",
    "data_widgets = {\n",
    "        'candidate': candidate,\n",
    "        'date': date\n",
    "}"
   ]
  },
  {
   "cell_type": "markdown",
   "metadata": {},
   "source": [
    "### Display the interactive plot with the added data widgets"
   ]
  },
  {
   "cell_type": "code",
   "execution_count": null,
   "metadata": {},
   "outputs": [],
   "source": [
    "@altair_widgets(custom_widgets=data_widgets) # will modify the ratings_scatter func to take args: data, column\n",
    "@meta_hist\n",
    "def usa_choro(data, color):\n",
    "    # Add in some logic for the defined widgets:\n",
    "    # Select the data for the candidate chosen\n",
    "    if candidate.value == 'Trump':\n",
    "        data = data[(data.candidate_name=='Donald Trump')]\n",
    "    elif candidate.value == 'Biden':\n",
    "        data = data[(data.candidate_name=='Joseph R. Biden Jr.')]\n",
    "\n",
    "    # Choose which polling date to display\n",
    "    data = data[\n",
    "        (data.modeldate == date.value)\n",
    "    ]\n",
    "\n",
    "    # Give the choropleth plot a title\n",
    "    title = 'Poll estimate for ' + candidate.value + ' on ' + date.value\n",
    "    \n",
    "    \n",
    "    chart = alt.Chart(data, title='Poll estimate for Biden on 11/03/2020').mark_geoshape()\n",
    "    chart = chart.encode(\n",
    "        color,\n",
    "        tooltip=['NAME', 'pct_estimate']\n",
    "    ).properties(\n",
    "        width=500,\n",
    "        height=300\n",
    "    ).project(\n",
    "        type='albersUsa' # TODO: use this choice to determine which scale/color options get included in dropdown\n",
    "    )\n",
    "    return chart"
   ]
  },
  {
   "cell_type": "code",
   "execution_count": null,
   "metadata": {},
   "outputs": [],
   "source": [
    "usa_choro(geo_states_trump_biden, 'pct_estimate')"
   ]
  },
  {
   "cell_type": "markdown",
   "metadata": {},
   "source": [
    "Notes:\n",
    "1. Setting the scale to `log` doesn't work unless `bin` is **unchecked**\n",
    "2. Because the `extent` data range plugs into the `alt.Bin` object, this will only work if `bin` is **checked**\n",
    "\n",
    "TODO:\n",
    "1. Add a way of choosing the number of colors for the color range"
   ]
  }
 ],
 "metadata": {
  "kernelspec": {
   "display_name": "Python 3 (ipykernel)",
   "language": "python",
   "name": "python3"
  },
  "language_info": {
   "codemirror_mode": {
    "name": "ipython",
    "version": 3
   },
   "file_extension": ".py",
   "mimetype": "text/x-python",
   "name": "python",
   "nbconvert_exporter": "python",
   "pygments_lexer": "ipython3",
   "version": "3.9.7"
  }
 },
 "nbformat": 4,
 "nbformat_minor": 4
}
