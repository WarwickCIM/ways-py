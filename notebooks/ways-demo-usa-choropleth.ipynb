{
 "cells": [
  {
   "cell_type": "markdown",
   "metadata": {},
   "source": [
    "# Altair Choropleths play\n",
    "\n",
    "Here I load in James' presidential polls dataset from the teaching notebook in this dir and attempt some rudimentary WAYS ideas."
   ]
  },
  {
   "cell_type": "code",
   "execution_count": 1,
   "metadata": {},
   "outputs": [],
   "source": [
    "%%capture\n",
    "# capture suppresses output of the below:\n",
    "# Install a pip package in the current Jupyter kernel\n",
    "import sys\n",
    "!{sys.executable} -m pip install -r requirements.txt"
   ]
  },
  {
   "cell_type": "code",
   "execution_count": 2,
   "metadata": {},
   "outputs": [],
   "source": [
    "import geopandas as gpd \n",
    "import pandas as pd\n",
    "import altair as alt\n",
    "\n",
    "geo_states = gpd.read_file('choropleth_teaching/gz_2010_us_040_00_500k.json')\n",
    "df_polls = pd.read_csv('choropleth_teaching/presidential_poll_averages_2020.csv')"
   ]
  },
  {
   "cell_type": "code",
   "execution_count": 3,
   "metadata": {},
   "outputs": [
    {
     "data": {
      "text/html": [
       "<div>\n",
       "<style scoped>\n",
       "    .dataframe tbody tr th:only-of-type {\n",
       "        vertical-align: middle;\n",
       "    }\n",
       "\n",
       "    .dataframe tbody tr th {\n",
       "        vertical-align: top;\n",
       "    }\n",
       "\n",
       "    .dataframe thead th {\n",
       "        text-align: right;\n",
       "    }\n",
       "</style>\n",
       "<table border=\"1\" class=\"dataframe\">\n",
       "  <thead>\n",
       "    <tr style=\"text-align: right;\">\n",
       "      <th></th>\n",
       "      <th>cycle</th>\n",
       "      <th>state</th>\n",
       "      <th>modeldate</th>\n",
       "      <th>candidate_name</th>\n",
       "      <th>pct_estimate</th>\n",
       "      <th>pct_trend_adjusted</th>\n",
       "    </tr>\n",
       "  </thead>\n",
       "  <tbody>\n",
       "    <tr>\n",
       "      <th>0</th>\n",
       "      <td>2020</td>\n",
       "      <td>Wyoming</td>\n",
       "      <td>11/03/2020</td>\n",
       "      <td>Joseph R. Biden Jr.</td>\n",
       "      <td>30.81486</td>\n",
       "      <td>30.82599</td>\n",
       "    </tr>\n",
       "    <tr>\n",
       "      <th>1</th>\n",
       "      <td>2020</td>\n",
       "      <td>Wisconsin</td>\n",
       "      <td>11/03/2020</td>\n",
       "      <td>Joseph R. Biden Jr.</td>\n",
       "      <td>52.12642</td>\n",
       "      <td>52.09584</td>\n",
       "    </tr>\n",
       "    <tr>\n",
       "      <th>2</th>\n",
       "      <td>2020</td>\n",
       "      <td>West Virginia</td>\n",
       "      <td>11/03/2020</td>\n",
       "      <td>Joseph R. Biden Jr.</td>\n",
       "      <td>33.49125</td>\n",
       "      <td>33.51517</td>\n",
       "    </tr>\n",
       "    <tr>\n",
       "      <th>3</th>\n",
       "      <td>2020</td>\n",
       "      <td>Washington</td>\n",
       "      <td>11/03/2020</td>\n",
       "      <td>Joseph R. Biden Jr.</td>\n",
       "      <td>59.34201</td>\n",
       "      <td>59.39408</td>\n",
       "    </tr>\n",
       "    <tr>\n",
       "      <th>4</th>\n",
       "      <td>2020</td>\n",
       "      <td>Virginia</td>\n",
       "      <td>11/03/2020</td>\n",
       "      <td>Joseph R. Biden Jr.</td>\n",
       "      <td>53.74120</td>\n",
       "      <td>53.72101</td>\n",
       "    </tr>\n",
       "  </tbody>\n",
       "</table>\n",
       "</div>"
      ],
      "text/plain": [
       "   cycle          state   modeldate       candidate_name  pct_estimate  \\\n",
       "0   2020        Wyoming  11/03/2020  Joseph R. Biden Jr.      30.81486   \n",
       "1   2020      Wisconsin  11/03/2020  Joseph R. Biden Jr.      52.12642   \n",
       "2   2020  West Virginia  11/03/2020  Joseph R. Biden Jr.      33.49125   \n",
       "3   2020     Washington  11/03/2020  Joseph R. Biden Jr.      59.34201   \n",
       "4   2020       Virginia  11/03/2020  Joseph R. Biden Jr.      53.74120   \n",
       "\n",
       "   pct_trend_adjusted  \n",
       "0            30.82599  \n",
       "1            52.09584  \n",
       "2            33.51517  \n",
       "3            59.39408  \n",
       "4            53.72101  "
      ]
     },
     "execution_count": 3,
     "metadata": {},
     "output_type": "execute_result"
    }
   ],
   "source": [
    "df_polls.head()"
   ]
  },
  {
   "cell_type": "markdown",
   "metadata": {},
   "source": [
    "On how many dates was the polling done?"
   ]
  },
  {
   "cell_type": "code",
   "execution_count": 4,
   "metadata": {},
   "outputs": [
    {
     "data": {
      "text/plain": [
       "251"
      ]
     },
     "execution_count": 4,
     "metadata": {},
     "output_type": "execute_result"
    }
   ],
   "source": [
    "len(df_polls.modeldate.unique())"
   ]
  },
  {
   "cell_type": "markdown",
   "metadata": {},
   "source": [
    "Filter our poll data to remove third party candidates."
   ]
  },
  {
   "cell_type": "code",
   "execution_count": 5,
   "metadata": {},
   "outputs": [],
   "source": [
    "df_polls = df_polls[\n",
    "    (df_polls.candidate_name == 'Donald Trump') |\n",
    "    (df_polls.candidate_name == 'Joseph R. Biden Jr.')\n",
    "]"
   ]
  },
  {
   "cell_type": "markdown",
   "metadata": {},
   "source": [
    "The geo_states variable has polygons for each state."
   ]
  },
  {
   "cell_type": "code",
   "execution_count": 6,
   "metadata": {},
   "outputs": [
    {
     "data": {
      "text/html": [
       "<div>\n",
       "<style scoped>\n",
       "    .dataframe tbody tr th:only-of-type {\n",
       "        vertical-align: middle;\n",
       "    }\n",
       "\n",
       "    .dataframe tbody tr th {\n",
       "        vertical-align: top;\n",
       "    }\n",
       "\n",
       "    .dataframe thead th {\n",
       "        text-align: right;\n",
       "    }\n",
       "</style>\n",
       "<table border=\"1\" class=\"dataframe\">\n",
       "  <thead>\n",
       "    <tr style=\"text-align: right;\">\n",
       "      <th></th>\n",
       "      <th>GEO_ID</th>\n",
       "      <th>STATE</th>\n",
       "      <th>NAME</th>\n",
       "      <th>LSAD</th>\n",
       "      <th>CENSUSAREA</th>\n",
       "      <th>geometry</th>\n",
       "    </tr>\n",
       "  </thead>\n",
       "  <tbody>\n",
       "    <tr>\n",
       "      <th>0</th>\n",
       "      <td>0400000US23</td>\n",
       "      <td>23</td>\n",
       "      <td>Maine</td>\n",
       "      <td></td>\n",
       "      <td>30842.923</td>\n",
       "      <td>MULTIPOLYGON (((-67.61976 44.51975, -67.61541 ...</td>\n",
       "    </tr>\n",
       "    <tr>\n",
       "      <th>1</th>\n",
       "      <td>0400000US25</td>\n",
       "      <td>25</td>\n",
       "      <td>Massachusetts</td>\n",
       "      <td></td>\n",
       "      <td>7800.058</td>\n",
       "      <td>MULTIPOLYGON (((-70.83204 41.60650, -70.82373 ...</td>\n",
       "    </tr>\n",
       "    <tr>\n",
       "      <th>2</th>\n",
       "      <td>0400000US26</td>\n",
       "      <td>26</td>\n",
       "      <td>Michigan</td>\n",
       "      <td></td>\n",
       "      <td>56538.901</td>\n",
       "      <td>MULTIPOLYGON (((-88.68443 48.11579, -88.67563 ...</td>\n",
       "    </tr>\n",
       "    <tr>\n",
       "      <th>3</th>\n",
       "      <td>0400000US30</td>\n",
       "      <td>30</td>\n",
       "      <td>Montana</td>\n",
       "      <td></td>\n",
       "      <td>145545.801</td>\n",
       "      <td>POLYGON ((-104.05770 44.99743, -104.25015 44.9...</td>\n",
       "    </tr>\n",
       "    <tr>\n",
       "      <th>4</th>\n",
       "      <td>0400000US32</td>\n",
       "      <td>32</td>\n",
       "      <td>Nevada</td>\n",
       "      <td></td>\n",
       "      <td>109781.180</td>\n",
       "      <td>POLYGON ((-114.05060 37.00040, -114.04999 36.9...</td>\n",
       "    </tr>\n",
       "  </tbody>\n",
       "</table>\n",
       "</div>"
      ],
      "text/plain": [
       "        GEO_ID STATE           NAME LSAD  CENSUSAREA  \\\n",
       "0  0400000US23    23          Maine        30842.923   \n",
       "1  0400000US25    25  Massachusetts         7800.058   \n",
       "2  0400000US26    26       Michigan        56538.901   \n",
       "3  0400000US30    30        Montana       145545.801   \n",
       "4  0400000US32    32         Nevada       109781.180   \n",
       "\n",
       "                                            geometry  \n",
       "0  MULTIPOLYGON (((-67.61976 44.51975, -67.61541 ...  \n",
       "1  MULTIPOLYGON (((-70.83204 41.60650, -70.82373 ...  \n",
       "2  MULTIPOLYGON (((-88.68443 48.11579, -88.67563 ...  \n",
       "3  POLYGON ((-104.05770 44.99743, -104.25015 44.9...  \n",
       "4  POLYGON ((-114.05060 37.00040, -114.04999 36.9...  "
      ]
     },
     "execution_count": 6,
     "metadata": {},
     "output_type": "execute_result"
    }
   ],
   "source": [
    "geo_states.head()"
   ]
  },
  {
   "cell_type": "code",
   "execution_count": 7,
   "metadata": {},
   "outputs": [],
   "source": [
    "trump_data = df_polls[\n",
    "    df_polls.candidate_name == 'Donald Trump'\n",
    "]\n",
    "\n",
    "biden_data = df_polls[\n",
    "    df_polls.candidate_name == 'Joseph R. Biden Jr.'\n",
    "]"
   ]
  },
  {
   "cell_type": "markdown",
   "metadata": {},
   "source": [
    "Our spatial and poll data have the name of the state in common. We will change the name of the state to NAME to match our geospatial dataframe."
   ]
  },
  {
   "cell_type": "code",
   "execution_count": 8,
   "metadata": {},
   "outputs": [],
   "source": [
    "trump_data.columns = ['cycle', 'NAME', 'modeldate', 'candidate_name', 'pct_estimate', 'pct_trend_adjusted']\n",
    "biden_data.columns = ['cycle', 'NAME', 'modeldate', 'candidate_name', 'pct_estimate', 'pct_trend_adjusted']"
   ]
  },
  {
   "cell_type": "markdown",
   "metadata": {},
   "source": [
    "We can join the geospatial and poll data using the NAME column (the name of the state)."
   ]
  },
  {
   "cell_type": "code",
   "execution_count": 9,
   "metadata": {},
   "outputs": [],
   "source": [
    "# Create separate date frame for trump and biden\n",
    "# Add the poll data\n",
    "geo_states_trump = geo_states.merge(trump_data, on='NAME')\n",
    "geo_states_biden = geo_states.merge(biden_data, on='NAME')"
   ]
  },
  {
   "cell_type": "code",
   "execution_count": 10,
   "metadata": {},
   "outputs": [
    {
     "data": {
      "text/plain": [
       "False    9972\n",
       "True       51\n",
       "Name: modeldate, dtype: int64"
      ]
     },
     "execution_count": 10,
     "metadata": {},
     "output_type": "execute_result"
    }
   ],
   "source": [
    "(geo_states_trump.modeldate == '11/03/2020').value_counts()"
   ]
  },
  {
   "cell_type": "code",
   "execution_count": 11,
   "metadata": {},
   "outputs": [
    {
     "data": {
      "text/html": [
       "<div>\n",
       "<style scoped>\n",
       "    .dataframe tbody tr th:only-of-type {\n",
       "        vertical-align: middle;\n",
       "    }\n",
       "\n",
       "    .dataframe tbody tr th {\n",
       "        vertical-align: top;\n",
       "    }\n",
       "\n",
       "    .dataframe thead th {\n",
       "        text-align: right;\n",
       "    }\n",
       "</style>\n",
       "<table border=\"1\" class=\"dataframe\">\n",
       "  <thead>\n",
       "    <tr style=\"text-align: right;\">\n",
       "      <th></th>\n",
       "      <th>GEO_ID</th>\n",
       "      <th>STATE</th>\n",
       "      <th>NAME</th>\n",
       "      <th>LSAD</th>\n",
       "      <th>CENSUSAREA</th>\n",
       "      <th>geometry</th>\n",
       "      <th>cycle</th>\n",
       "      <th>modeldate</th>\n",
       "      <th>candidate_name</th>\n",
       "      <th>pct_estimate</th>\n",
       "      <th>pct_trend_adjusted</th>\n",
       "    </tr>\n",
       "  </thead>\n",
       "  <tbody>\n",
       "    <tr>\n",
       "      <th>0</th>\n",
       "      <td>0400000US23</td>\n",
       "      <td>23</td>\n",
       "      <td>Maine</td>\n",
       "      <td></td>\n",
       "      <td>30842.923</td>\n",
       "      <td>MULTIPOLYGON (((-67.61976 44.51975, -67.61541 ...</td>\n",
       "      <td>2020</td>\n",
       "      <td>11/03/2020</td>\n",
       "      <td>Joseph R. Biden Jr.</td>\n",
       "      <td>53.31518</td>\n",
       "      <td>53.32106</td>\n",
       "    </tr>\n",
       "    <tr>\n",
       "      <th>1</th>\n",
       "      <td>0400000US23</td>\n",
       "      <td>23</td>\n",
       "      <td>Maine</td>\n",
       "      <td></td>\n",
       "      <td>30842.923</td>\n",
       "      <td>MULTIPOLYGON (((-67.61976 44.51975, -67.61541 ...</td>\n",
       "      <td>2020</td>\n",
       "      <td>11/02/2020</td>\n",
       "      <td>Joseph R. Biden Jr.</td>\n",
       "      <td>53.31518</td>\n",
       "      <td>53.32106</td>\n",
       "    </tr>\n",
       "    <tr>\n",
       "      <th>2</th>\n",
       "      <td>0400000US23</td>\n",
       "      <td>23</td>\n",
       "      <td>Maine</td>\n",
       "      <td></td>\n",
       "      <td>30842.923</td>\n",
       "      <td>MULTIPOLYGON (((-67.61976 44.51975, -67.61541 ...</td>\n",
       "      <td>2020</td>\n",
       "      <td>11/01/2020</td>\n",
       "      <td>Joseph R. Biden Jr.</td>\n",
       "      <td>53.70696</td>\n",
       "      <td>53.91672</td>\n",
       "    </tr>\n",
       "    <tr>\n",
       "      <th>3</th>\n",
       "      <td>0400000US23</td>\n",
       "      <td>23</td>\n",
       "      <td>Maine</td>\n",
       "      <td></td>\n",
       "      <td>30842.923</td>\n",
       "      <td>MULTIPOLYGON (((-67.61976 44.51975, -67.61541 ...</td>\n",
       "      <td>2020</td>\n",
       "      <td>10/31/2020</td>\n",
       "      <td>Joseph R. Biden Jr.</td>\n",
       "      <td>53.30098</td>\n",
       "      <td>53.55544</td>\n",
       "    </tr>\n",
       "    <tr>\n",
       "      <th>4</th>\n",
       "      <td>0400000US23</td>\n",
       "      <td>23</td>\n",
       "      <td>Maine</td>\n",
       "      <td></td>\n",
       "      <td>30842.923</td>\n",
       "      <td>MULTIPOLYGON (((-67.61976 44.51975, -67.61541 ...</td>\n",
       "      <td>2020</td>\n",
       "      <td>10/30/2020</td>\n",
       "      <td>Joseph R. Biden Jr.</td>\n",
       "      <td>53.34166</td>\n",
       "      <td>53.64551</td>\n",
       "    </tr>\n",
       "  </tbody>\n",
       "</table>\n",
       "</div>"
      ],
      "text/plain": [
       "        GEO_ID STATE   NAME LSAD  CENSUSAREA  \\\n",
       "0  0400000US23    23  Maine        30842.923   \n",
       "1  0400000US23    23  Maine        30842.923   \n",
       "2  0400000US23    23  Maine        30842.923   \n",
       "3  0400000US23    23  Maine        30842.923   \n",
       "4  0400000US23    23  Maine        30842.923   \n",
       "\n",
       "                                            geometry  cycle   modeldate  \\\n",
       "0  MULTIPOLYGON (((-67.61976 44.51975, -67.61541 ...   2020  11/03/2020   \n",
       "1  MULTIPOLYGON (((-67.61976 44.51975, -67.61541 ...   2020  11/02/2020   \n",
       "2  MULTIPOLYGON (((-67.61976 44.51975, -67.61541 ...   2020  11/01/2020   \n",
       "3  MULTIPOLYGON (((-67.61976 44.51975, -67.61541 ...   2020  10/31/2020   \n",
       "4  MULTIPOLYGON (((-67.61976 44.51975, -67.61541 ...   2020  10/30/2020   \n",
       "\n",
       "        candidate_name  pct_estimate  pct_trend_adjusted  \n",
       "0  Joseph R. Biden Jr.      53.31518            53.32106  \n",
       "1  Joseph R. Biden Jr.      53.31518            53.32106  \n",
       "2  Joseph R. Biden Jr.      53.70696            53.91672  \n",
       "3  Joseph R. Biden Jr.      53.30098            53.55544  \n",
       "4  Joseph R. Biden Jr.      53.34166            53.64551  "
      ]
     },
     "execution_count": 11,
     "metadata": {},
     "output_type": "execute_result"
    }
   ],
   "source": [
    "geo_states_biden.head()"
   ]
  },
  {
   "cell_type": "markdown",
   "metadata": {},
   "source": [
    "### Create choropleth plot function"
   ]
  },
  {
   "cell_type": "code",
   "execution_count": 12,
   "metadata": {},
   "outputs": [
    {
     "name": "stdout",
     "output_type": "stream",
     "text": [
      "Hello\n",
      " World\n"
     ]
    }
   ],
   "source": [
    "# Test wrapper, modify me\n",
    "def mywrapper(func):\n",
    "    def wrapper(*args, **kwargs):\n",
    "        func(*args, **kwargs)\n",
    "        print(' World')\n",
    "    return wrapper\n",
    "\n",
    "@mywrapper\n",
    "def f1():\n",
    "    print('Hello')\n",
    "\n",
    "f1()"
   ]
  },
  {
   "cell_type": "code",
   "execution_count": 13,
   "metadata": {},
   "outputs": [],
   "source": [
    "# Import WAYS\n",
    "import sys; sys.path.insert(0, '..')\n",
    "from ways_py.ways import (meta_hist, altair_bin_jupyter_widgets, altair_scale_jupyter_widget,\n",
    "                          altair_color_jupyter_widgets, get_altair_color_obj)"
   ]
  },
  {
   "cell_type": "code",
   "execution_count": 14,
   "metadata": {},
   "outputs": [],
   "source": [
    "# @meta_color should create the widgets and then generate the color objects from them and display the chart with widgets"
   ]
  },
  {
   "cell_type": "code",
   "execution_count": 15,
   "metadata": {},
   "outputs": [],
   "source": [
    "@meta_hist # decorators modify the output of usa_choro when called to be more than just the return\n",
    "def usa_choro(candidate_geo_states, color, title):\n",
    "    \"\"\"Plot a choropleth of the US states with the candidate vote percentage mapped to the color;\n",
    "    pass in altair color object and a title\"\"\"\n",
    "    chart = alt.Chart(candidate_geo_states, title=title).mark_geoshape()\n",
    "    chart = chart.encode(\n",
    "        color,\n",
    "        tooltip=['NAME', 'pct_estimate']\n",
    "    ).properties(\n",
    "        width=500,\n",
    "        height=300\n",
    "    ).project(\n",
    "        type='albersUsa'\n",
    "    )\n",
    "    return chart"
   ]
  },
  {
   "cell_type": "markdown",
   "metadata": {},
   "source": [
    "## Adding interactivity with Jupyter interact widgets\n",
    "\n",
    "Here I attempt to offer the user working on the the US presidential poll choropleth visualisation some options related to the colour-binning."
   ]
  },
  {
   "cell_type": "code",
   "execution_count": 16,
   "metadata": {},
   "outputs": [],
   "source": [
    "from ipywidgets import interact, interact_manual, widgets, HBox, VBox, GridspecLayout"
   ]
  },
  {
   "cell_type": "markdown",
   "metadata": {},
   "source": [
    "### Create and arrange widgets"
   ]
  },
  {
   "cell_type": "markdown",
   "metadata": {},
   "source": [
    "These widgets control the parts of the data to be visualised:"
   ]
  },
  {
   "cell_type": "code",
   "execution_count": 18,
   "metadata": {},
   "outputs": [],
   "source": [
    "# Simple dropdown to switch between Biden and Trump's data\n",
    "candidate = widgets.Dropdown(value='Biden', options=['Trump', 'Biden'], description = 'Candidate')\n",
    "\n",
    "# Get an ordered list of the dates (as strings) on which polling occured\n",
    "import datetime\n",
    "unsorted_datestrings = list(set(list(geo_states_biden['modeldate'])))\n",
    "dates = sorted(unsorted_datestrings, key=lambda x: datetime.datetime.strptime(x, '%m/%d/%Y'))\n",
    "\n",
    "# Choose the polling date to visualise\n",
    "date = widgets.SelectionSlider(value='10/03/2020', options=dates, description='Date', continuous_update=False)"
   ]
  },
  {
   "cell_type": "markdown",
   "metadata": {},
   "source": [
    "### Load and arrange widgets for Trump/Biden polling data choropleth"
   ]
  },
  {
   "cell_type": "code",
   "execution_count": 19,
   "metadata": {},
   "outputs": [],
   "source": [
    "# get the widgets from WAYS\n",
    "bin_widgets = altair_bin_jupyter_widgets()\n",
    "\n",
    "scale_widget = altair_scale_jupyter_widget()\n",
    "\n",
    "color_widgets = altair_color_jupyter_widgets()"
   ]
  },
  {
   "cell_type": "code",
   "execution_count": 20,
   "metadata": {},
   "outputs": [],
   "source": [
    "# create gridbox for widgets\n",
    "grid_widgets = []\n",
    "\n",
    "# Add the data widgets\n",
    "grid_widgets.append(candidate)\n",
    "grid_widgets.append(date)\n",
    "\n",
    "# Add the plot widgets\n",
    "grid_widgets += list(bin_widgets.values())\n",
    "grid_widgets.append(scale_widget)\n",
    "grid_widgets.append(color_widgets['colorschemetype'])\n",
    "grid_widgets.append(color_widgets['colorscheme'])\n",
    "grid_widgets.append(color_widgets['color_box'])\n",
    "\n",
    "# Plot does not automatically get generated, only the widgets are visible until this (or anything else) clicked\n",
    "generate_button = widgets.Button(description=\"Generate Plot\")\n",
    "def on_button_clicked(b):\n",
    "    date.value='11/03/2020' # This will get the plot to generate by changing one of the widgets\n",
    "generate_button.on_click(on_button_clicked)\n",
    "grid_widgets.append(generate_button)\n",
    "\n",
    "# Create the GridBox to arrange the widgets into rows of three\n",
    "grid = widgets.GridBox(grid_widgets, layout=widgets.Layout(grid_template_columns=\"repeat(3, 300px)\"))"
   ]
  },
  {
   "cell_type": "code",
   "execution_count": 23,
   "metadata": {},
   "outputs": [],
   "source": [
    "# Define interactive plot containing choropleth and metavisualisation histogram\n",
    "# @interact_altair\n",
    "def interact_usa_choro(candidate,\n",
    "                       date,\n",
    "                       bin,\n",
    "                       maxbins,\n",
    "                       scale,\n",
    "                       extent,\n",
    "                       colorschemetype,\n",
    "                       colorscheme,\n",
    "                       color_1,\n",
    "                       color_2,\n",
    "                       color_3\n",
    "                      ):\n",
    "\n",
    "    # Chooses the candidate dataset\n",
    "    candidate_geo_states = geo_states_biden\n",
    "    if candidate == 'Trump':\n",
    "        candidate_geo_states = geo_states_trump\n",
    "\n",
    "    # Choose which polling date to display\n",
    "    candidate_geo_states = candidate_geo_states[\n",
    "        (candidate_geo_states.modeldate == date)\n",
    "    ]\n",
    "\n",
    "    # Give the choropleth plot a title\n",
    "    title = 'Poll estimate for ' + candidate + ' on ' + date\n",
    "    \n",
    "    # Choose column of df to plot\n",
    "    column = \"pct_estimate\"\n",
    "\n",
    "    # Creates the bin, scale and color objects, to be passed to both plots\n",
    "    color = get_altair_color_obj(bin,\n",
    "                       maxbins,\n",
    "                       scale,\n",
    "                       extent,\n",
    "                       colorschemetype,\n",
    "                       colorscheme,\n",
    "                       color_1,\n",
    "                       color_2,\n",
    "                       color_3,\n",
    "                          column)\n",
    "    \n",
    "    # Display the histogram and choropleth in horizontal panels\n",
    "#     return usa_choro(candidate_geo_states, color, title)\n",
    "    display(usa_choro(candidate_geo_states, color, title))"
   ]
  },
  {
   "cell_type": "code",
   "execution_count": 25,
   "metadata": {},
   "outputs": [
    {
     "data": {
      "application/vnd.jupyter.widget-view+json": {
       "model_id": "936c6469129843bca5a2f2f1fbc5bd50",
       "version_major": 2,
       "version_minor": 0
      },
      "text/plain": [
       "GridBox(children=(Dropdown(description='Candidate', index=1, options=('Trump', 'Biden'), value='Biden'), Selec…"
      ]
     },
     "metadata": {},
     "output_type": "display_data"
    },
    {
     "data": {
      "application/vnd.jupyter.widget-view+json": {
       "model_id": "610542b71a9e4bbda03ec79f9beb3116",
       "version_major": 2,
       "version_minor": 0
      },
      "text/plain": [
       "Output()"
      ]
     },
     "metadata": {},
     "output_type": "display_data"
    }
   ],
   "source": [
    "# Create interactive ouput from widget grid and plot\n",
    "# Pass the widgets into the args of the interactive choropleth\n",
    "out = widgets.interactive_output(\n",
    "    interact_usa_choro,\n",
    "    {\n",
    "        'candidate': candidate,\n",
    "        'date': date,\n",
    "        'bin': bin_widgets['bin'],\n",
    "        'maxbins': bin_widgets['maxbins'],\n",
    "        'extent': bin_widgets['extent'],\n",
    "        'scale': scale_widget,\n",
    "        'colorschemetype': color_widgets['colorschemetype'],\n",
    "        'colorscheme': color_widgets['colorscheme'],\n",
    "        'color_1': color_widgets['color_1'],\n",
    "        'color_2': color_widgets['color_2'],\n",
    "        'color_3': color_widgets['color_3'],\n",
    "    }\n",
    ")\n",
    "# Display in this cell\n",
    "display(grid, out)"
   ]
  },
  {
   "cell_type": "markdown",
   "metadata": {},
   "source": [
    "Notes:\n",
    "1. Setting the scale to `log` doesn't work unless `bin` is **unchecked**\n",
    "2. Because the `extent` data range plugs into the `alt.Bin` object, this will only work if `bin` is **checked**\n",
    "3. There is no way to pre-populate dropdowns with all available options for a given function argument"
   ]
  },
  {
   "cell_type": "markdown",
   "metadata": {},
   "source": [
    "TODOs:\n",
    "- [x] Separate the data widgets from the color and bin object widgets\n",
    "- [x] Move into WAYS py\n",
    "- [x] Put color box in color function\n",
    "- [ ] Understand wrapper functions and what Roly has done\n",
    "- [ ] Create new functions for WAYS called like altair_color and altair_bin that act like the histogram wrapper\n",
    "    - Can these be chained so that you can apply multiple wrappers?"
   ]
  }
 ],
 "metadata": {
  "kernelspec": {
   "display_name": "Python 3 (ipykernel)",
   "language": "python",
   "name": "python3"
  },
  "language_info": {
   "codemirror_mode": {
    "name": "ipython",
    "version": 3
   },
   "file_extension": ".py",
   "mimetype": "text/x-python",
   "name": "python",
   "nbconvert_exporter": "python",
   "pygments_lexer": "ipython3",
   "version": "3.9.7"
  }
 },
 "nbformat": 4,
 "nbformat_minor": 4
}
